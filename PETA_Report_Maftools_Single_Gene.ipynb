{
 "cells": [
  {
   "cell_type": "code",
   "execution_count": 97,
   "metadata": {
    "tags": [
     "parameters"
    ]
   },
   "outputs": [],
   "source": [
    "token='44a1adeb-acd8-4167-9dc3-9006b9dda656'\n",
    "json_str='{\"studyIds\":[\"tianhua_system_DX1890\"],\"pageSize\":999999,\"pageIndex\":1,\"attributesRangeFilters\":[],\"attributesEqualFilters\":[],\"mutationFilter\":{\"hugoGeneSymbols\":[],\"exacStart\":0,\"exadEnd\":1,\"vabundStart\":0,\"vabundEnd\":1,\"variantSource\":[],\"variantType\":[],\"variantClass\":[],\"sequencer\":[],\"sequencerSource\":[],\"searchStr\":\"\"}}'\n",
    "host='https://peta.bgi.com/api'"
   ]
  },
  {
   "cell_type": "code",
   "execution_count": 98,
   "metadata": {
    "tags": [
     "hide"
    ]
   },
   "outputs": [],
   "source": [
    "# 启动python环境，并载入包\n",
    "tryCatch({\n",
    "    library(reticulate)\n",
    "    use_condaenv(\"r-reticulate\")#peta生产环境可用，本地机未安\n",
    "    library(maftools)\n",
    " },error=function(e){\n",
    "     print(e)\n",
    " } )"
   ]
  },
  {
   "cell_type": "code",
   "execution_count": 99,
   "metadata": {
    "tags": [
     "hide"
    ]
   },
   "outputs": [],
   "source": [
    "# 调用pypeta获取数据\n",
    "tryCatch({\n",
    "    pypyta<- import(\"pypeta\")\n",
    "    peta<-pypyta$Peta(token=token,host=host)\n",
    "    peta$set_data_restriction_from_json_string(json_str)\n",
    "    mut<-peta$fetch_mutation_data()\n",
    "    mut<-mut[which(mut$NCBI_Build != 'NA'),]\n",
    "    cli<-peta$fetch_clinical_data()\n",
    "    names(cli)[names(cli) =='sampleId'] <- 'Tumor_Sample_Barcode'\n",
    " },error=function(e){\n",
    "     print(e)\n",
    " } )"
   ]
  },
  {
   "cell_type": "code",
   "execution_count": 100,
   "metadata": {
    "tags": [
     "hide"
    ]
   },
   "outputs": [],
   "source": [
    "#Reading MAF files\n",
    "tryCatch({   \n",
    "    laml = read.maf(maf = mut,clinicalData=cli,verbose = F)\n",
    " },error=function(e){\n",
    "     print(e)\n",
    " } )"
   ]
  },
  {
   "cell_type": "markdown",
   "metadata": {
    "tags": [
     "output"
    ]
   },
   "source": [
    "# 数据选择条件"
   ]
  },
  {
   "cell_type": "code",
   "execution_count": 101,
   "metadata": {
    "tags": [
     "output"
    ]
   },
   "outputs": [
    {
     "data": {
      "text/html": [
       "'选取的研究数据集包括tianhua_system_DX1890。'"
      ],
      "text/latex": [
       "'选取的研究数据集包括tianhua\\_system\\_DX1890。'"
      ],
      "text/markdown": [
       "'选取的研究数据集包括tianhua_system_DX1890。'"
      ],
      "text/plain": [
       "[1] \"选取的研究数据集包括tianhua_system_DX1890。\""
      ]
     },
     "metadata": {},
     "output_type": "display_data"
    }
   ],
   "source": [
    "#print selected data set\n",
    "tryCatch({\n",
    "    json<-import(\"json\")\n",
    "    json$loads(json_str)\n",
    "    pypyta$filter_description(json_str)\n",
    " },error=function(e){\n",
    "     print(e)\n",
    " } )"
   ]
  },
  {
   "cell_type": "markdown",
   "metadata": {
    "tags": [
     "output"
    ]
   },
   "source": [
    "# 组学特征分析"
   ]
  },
  {
   "cell_type": "markdown",
   "metadata": {
    "tags": [
     "output"
    ]
   },
   "source": [
    "## 临床特征分布"
   ]
  },
  {
   "cell_type": "code",
   "execution_count": 102,
   "metadata": {
    "tags": [
     "output"
    ]
   },
   "outputs": [
    {
     "data": {
      "text/html": [
       "<table>\n",
       "<caption>A data.table: 34 × 22</caption>\n",
       "<thead>\n",
       "\t<tr><th scope=col>CANCER_STAGE</th><th scope=col>CANCER_TYPE</th><th scope=col>GENETIC_TEST_RESULT</th><th scope=col>HRD_SCORE</th><th scope=col>MSI_STATUS</th><th scope=col>SAMPLE_COLLECTION_DATE</th><th scope=col>SAMPLE_COLLECTION_MONTH</th><th scope=col>SAMPLE_SOURCE_DOCTOR</th><th scope=col>SAMPLE_SOURCE_PATH</th><th scope=col>SAMPLE_TYPE_DETAILED</th><th scope=col>⋯</th><th scope=col>ALCOHOL_HISTORY</th><th scope=col>FAMILY_HISTORY_OF_CANCER</th><th scope=col>PATHOLOGICAL_DIAGNOSIS</th><th scope=col>SEX</th><th scope=col>TUMOR_METASTASIS_STATUS</th><th scope=col>patientId</th><th scope=col>Tumor_Sample_Barcode</th><th scope=col>studyId</th><th scope=col>HOSPITAL_DEPARTMENT</th><th scope=col>PERSONAL_HISTORY</th></tr>\n",
       "\t<tr><th scope=col>&lt;fct&gt;</th><th scope=col>&lt;fct&gt;</th><th scope=col>&lt;fct&gt;</th><th scope=col>&lt;fct&gt;</th><th scope=col>&lt;fct&gt;</th><th scope=col>&lt;fct&gt;</th><th scope=col>&lt;fct&gt;</th><th scope=col>&lt;fct&gt;</th><th scope=col>&lt;fct&gt;</th><th scope=col>&lt;fct&gt;</th><th scope=col>⋯</th><th scope=col>&lt;fct&gt;</th><th scope=col>&lt;fct&gt;</th><th scope=col>&lt;fct&gt;</th><th scope=col>&lt;fct&gt;</th><th scope=col>&lt;fct&gt;</th><th scope=col>&lt;fct&gt;</th><th scope=col>&lt;fct&gt;</th><th scope=col>&lt;fct&gt;</th><th scope=col>&lt;fct&gt;</th><th scope=col>&lt;fct&gt;</th></tr>\n",
       "</thead>\n",
       "<tbody>\n",
       "\t<tr><td>IV;IV;IV            </td><td>卵巢癌;卵巢癌;卵巢癌</td><td>阳性</td><td>-22.09            </td><td>MSS</td><td>2020-07-15</td><td>2020-07</td><td>王珂  </td><td>天津市肿瘤医院                  </td><td>石蜡切片</td><td>⋯</td><td>放化疗史:2020-7-1化疗;靶向药物史:贝伐单抗;吸烟史:0;放化疗史:2020-7-1化疗;靶向药物史:贝伐单抗;吸烟史:0;放化疗史:2020-7-1化疗;靶向药物史:贝伐单抗;吸烟史:0</td><td>姐姐1肺癌，姐姐2乳腺癌;姐姐1肺癌，姐姐2乳腺癌;姐姐1肺癌，姐姐2乳腺癌                                                </td><td>卵巢高级别浆液性癌;卵巢高级别浆液性癌;卵巢高级别浆液性癌</td><td>女</td><td>原发</td><td>19S3185741  </td><td>19S3185741  </td><td>tianhua_system_DX1890</td><td>NaN         </td><td>NaN</td></tr>\n",
       "\t<tr><td>III;III;III         </td><td>卵巢癌;卵巢癌;卵巢癌</td><td>阳性</td><td>-28.96            </td><td>MSS</td><td>2020-07-15</td><td>2020-07</td><td>李雷  </td><td>中国医学科学院北京协和医院      </td><td>组织    </td><td>⋯</td><td>放化疗史:化疗三次;靶向药物史:无;吸烟史:0;放化疗史:化疗三次;靶向药物史:无;吸烟史:0;放化疗史:化疗三次;靶向药物史:无;吸烟史:0                              </td><td>母亲鼻咽癌83年去世;个人其他肿瘤史:不详;母亲鼻咽癌83年去世;个人其他肿瘤史:不详;母亲鼻咽癌83年去世;个人其他肿瘤史:不详</td><td>低级别浆液性卵巢癌;低级别浆液性卵巢癌;低级别浆液性卵巢癌</td><td>女</td><td>原发</td><td>20S2123870  </td><td>20S2123870  </td><td>tianhua_system_DX1890</td><td>妇科        </td><td>NaN</td></tr>\n",
       "\t<tr><td>不清楚;不清楚;不清楚</td><td>卵巢癌;卵巢癌;卵巢癌</td><td>阳性</td><td>31.3              </td><td>MSS</td><td>2020-07-16</td><td>2020-07</td><td>潘凌亚</td><td>中国医学科学院北京协和医院      </td><td>石蜡切片</td><td>⋯</td><td>放化疗史:2009-20108次化疗;靶向药物史:无;吸烟史:0;放化疗史:2009-20108次化疗;靶向药物史:无;吸烟史:0;放化疗史:2009-20108次化疗;靶向药物史:无;吸烟史:0      </td><td>妈妈妇科疾病，姨娘妇科疾病;妈妈妇科疾病，姨娘妇科疾病;妈妈妇科疾病，姨娘妇科疾病                                    </td><td>高级浆液型;高级浆液型;高级浆液型                        </td><td>女</td><td>原发</td><td>20S2123920  </td><td>20S2123920  </td><td>tianhua_system_DX1890</td><td>NaN         </td><td>NaN</td></tr>\n",
       "\t<tr><td>III;III;III         </td><td>卵巢癌;卵巢癌;卵巢癌</td><td>阳性</td><td>59.91             </td><td>MSS</td><td>2020-07-15</td><td>2020-07</td><td>李雷  </td><td>中国医学科学院北京协和医院      </td><td>组织    </td><td>⋯</td><td>放化疗史:术前三次术后六次;靶向药物史:无;吸烟史:0;放化疗史:术前三次术后六次;靶向药物史:无;吸烟史:0;放化疗史:术前三次术后六次;靶向药物史:无;吸烟史:0      </td><td>无;无;无                                                                                                            </td><td>高级别浆液性卵巢癌;高级别浆液性卵巢癌;高级别浆液性卵巢癌</td><td>女</td><td>原发</td><td>20S2123924  </td><td>20S2123924  </td><td>tianhua_system_DX1890</td><td>NaN         </td><td>NaN</td></tr>\n",
       "\t<tr><td>IV                  </td><td>卵巢癌              </td><td>阳性</td><td>44.9              </td><td>MSS</td><td>2020-08-06</td><td>2020-08</td><td>无    </td><td>湖南省肿瘤医院                  </td><td>石蜡切片</td><td>⋯</td><td>放化疗史:无;靶向药物史:无;吸烟史:0                                                                                                                      </td><td>无;个人其他肿瘤史:无                                                                                                </td><td>卵巢腺癌                                                </td><td>女</td><td>原发</td><td>19S3200601  </td><td>19S3200601  </td><td>tianhua_system_DX1890</td><td>妇瘤科      </td><td>NaN</td></tr>\n",
       "\t<tr><td>I                   </td><td>卵巢癌              </td><td>阳性</td><td>12.62             </td><td>MSS</td><td>2020-08-10</td><td>2020-08</td><td>王辛  </td><td>四川大学华西医院                </td><td>石蜡切片</td><td>⋯</td><td>放化疗史:TC两次;靶向药物史:无;吸烟史:0                                                                                                                  </td><td>父亲，肺癌71岁;个人其他肿瘤史:无                                                                                    </td><td>透明细胞癌                                              </td><td>女</td><td>原发</td><td>20S2449702  </td><td>20S2449702  </td><td>tianhua_system_DX1890</td><td>肿瘤科      </td><td>NaN</td></tr>\n",
       "\t<tr><td>IV                  </td><td>卵巢癌              </td><td>阳性</td><td>17.64             </td><td>MSS</td><td>2020-08-22</td><td>2020-08</td><td>吴鸣  </td><td>中国医学科学院北京协和医院      </td><td>石蜡切片</td><td>⋯</td><td>放化疗史:四次化疗;靶向药物史:贝伐两次;吸烟史:0                                                                                                          </td><td>无;个人其他肿瘤史:无                                                                                                </td><td>卵巢癌                                                  </td><td>女</td><td>原发</td><td>20S2123955  </td><td>20S2123955  </td><td>tianhua_system_DX1890</td><td>妇瘤科      </td><td>NaN</td></tr>\n",
       "\t<tr><td>不清楚              </td><td>卵巢癌              </td><td>阳性</td><td>-25.51            </td><td>MSS</td><td>2020-11-19</td><td>2020-11</td><td>无    </td><td>肿瘤线上商城                    </td><td>石蜡切片</td><td>⋯</td><td>放化疗史:10.14最近一次化疗;靶向药物史:无;吸烟史:0                                                                                                       </td><td>个人其他肿瘤史:无                                                                                                   </td><td>卵巢癌                                                  </td><td>女</td><td>原发</td><td>20S8320973  </td><td>20S8320973  </td><td>tianhua_system_DX1890</td><td>无          </td><td>NaN</td></tr>\n",
       "\t<tr><td>III                 </td><td>卵巢癌              </td><td>阳性</td><td>49.28             </td><td>MSS</td><td>2020-11-26</td><td>2020-11</td><td>无    </td><td>江西艾迪健康信息咨询服务有限公司</td><td>石蜡切片</td><td>⋯</td><td>放化疗史:无;靶向药物史:无;吸烟史:0                                                                                                                      </td><td>个人其他肿瘤史:无                                                                                                   </td><td>原发                                                    </td><td>女</td><td>原发</td><td>20S10084701 </td><td>20S10084701 </td><td>tianhua_system_DX1890</td><td>无          </td><td>NaN</td></tr>\n",
       "\t<tr><td>不清楚              </td><td>卵巢癌              </td><td>阳性</td><td>31.85             </td><td>MSS</td><td>2020-11-27</td><td>2020-11</td><td>夏医生</td><td>复旦大学附属肿瘤医院            </td><td>石蜡切片</td><td>⋯</td><td>放化疗史:紫杉醇+卡铂4次;靶向药物史:无;吸烟史:0                                                                                                          </td><td>无;个人其他肿瘤史:无                                                                                                </td><td>卵巢癌                                                  </td><td>女</td><td>原发</td><td>20S11060832 </td><td>20S11060832 </td><td>tianhua_system_DX1890</td><td>妇瘤        </td><td>NaN</td></tr>\n",
       "\t<tr><td>III                 </td><td>卵巢癌              </td><td>阳性</td><td>55.19             </td><td>MSS</td><td>2020-12-04</td><td>2020-12</td><td>无    </td><td>肿瘤线上商城                    </td><td>石蜡切片</td><td>⋯</td><td>放化疗史:化疗中，2020年11月4日紫杉醇+卡铂;靶向药物史:无;吸烟史:0                                                                                        </td><td>患者父亲结肠癌;个人其他肿瘤史:无                                                                                    </td><td>高级别浆液性卵巢癌                                      </td><td>女</td><td>原发</td><td>20S8321155R </td><td>20S8321155R </td><td>tianhua_system_DX1890</td><td>无          </td><td>NaN</td></tr>\n",
       "\t<tr><td>不清楚              </td><td>卵巢癌              </td><td>阳性</td><td>48.88             </td><td>MSS</td><td>2020-12-03</td><td>2020-12</td><td>温医生</td><td>复旦大学附属肿瘤医院            </td><td>新鲜组织</td><td>⋯</td><td>放化疗史:无;靶向药物史:无;吸烟史:0                                                                                                                      </td><td>无;个人其他肿瘤史:无                                                                                                </td><td>卵巢癌                                                  </td><td>女</td><td>原发</td><td>20S11060826 </td><td>20S11060826 </td><td>tianhua_system_DX1890</td><td>妇瘤        </td><td>NaN</td></tr>\n",
       "\t<tr><td>不清楚              </td><td>卵巢癌              </td><td>阴性</td><td>-29.18            </td><td>MSS</td><td>2020-12-08</td><td>2020-12</td><td>温医生</td><td>复旦大学附属肿瘤医院            </td><td>新鲜组织</td><td>⋯</td><td>放化疗史:周疗8次（末次11.6）;靶向药物史:无;吸烟史:0                                                                                                     </td><td>哥哥：前列腺癌（70+）;个人其他肿瘤史:无                                                                             </td><td>卵巢高级别浆液性癌                                      </td><td>女</td><td>原发</td><td>20S11060827 </td><td>20S11060827 </td><td>tianhua_system_DX1890</td><td>妇瘤        </td><td>NaN</td></tr>\n",
       "\t<tr><td>不清楚              </td><td>卵巢癌              </td><td>阳性</td><td>57.12             </td><td>MSS</td><td>2020-12-12</td><td>2020-12</td><td>温医生</td><td>复旦大学附属肿瘤医院            </td><td>石蜡切片</td><td>⋯</td><td>放化疗史:周疗8次（末次11.6）;靶向药物史:无;吸烟史:0                                                                                                     </td><td>哥哥：前列腺癌（70+）;个人其他肿瘤史:无                                                                             </td><td>卵巢高级别浆液性癌                                      </td><td>女</td><td>原发</td><td>20S11060827R</td><td>20S11060827R</td><td>tianhua_system_DX1890</td><td>妇瘤        </td><td>NaN</td></tr>\n",
       "\t<tr><td>不清楚              </td><td>卵巢癌              </td><td>阳性</td><td>62.47             </td><td>MSS</td><td>2020-12-08</td><td>2020-12</td><td>催    </td><td>北京大学人民医院                </td><td>石蜡切片</td><td>⋯</td><td>放化疗史:无;靶向药物史:无;吸烟史:0                                                                                                                      </td><td>姨卵巢癌;个人其他肿瘤史:无                                                                                          </td><td>卵巢癌                                                  </td><td>女</td><td>原发</td><td>20S12417159 </td><td>20S12417159 </td><td>tianhua_system_DX1890</td><td>妇科肿瘤    </td><td>NaN</td></tr>\n",
       "\t<tr><td>不清楚              </td><td>卵巢癌              </td><td>阳性</td><td>5.52              </td><td>MSS</td><td>2020-12-11</td><td>2020-12</td><td>吴鸣  </td><td>中国医学科学院北京协和医院      </td><td>石蜡切片</td><td>⋯</td><td>放化疗史:9次化疗;靶向药物史:无;吸烟史:0                                                                                                                 </td><td>无;个人其他肿瘤史:无                                                                                                </td><td>卵巢透明细胞癌                                          </td><td>女</td><td>原发</td><td>20S12588855 </td><td>20S12588855 </td><td>tianhua_system_DX1890</td><td>妇科        </td><td>NaN</td></tr>\n",
       "\t<tr><td>III                 </td><td>卵巢癌              </td><td>阳性</td><td>23.03             </td><td>MSS</td><td>2020-12-17</td><td>2020-12</td><td>张老师</td><td>天津市中心妇产科医院            </td><td>石蜡切片</td><td>⋯</td><td>放化疗史:化疗6期;靶向药物史:无;吸烟史:0                                                                                                                 </td><td>妈妈子宫肿瘤，二姨乳腺癌，姨姥姥直肠癌;个人其他肿瘤史:无                                                            </td><td>高级别浆液性卵巢癌                                      </td><td>女</td><td>原发</td><td>19S3199300  </td><td>19S3199300  </td><td>tianhua_system_DX1890</td><td>妇瘤科      </td><td>NaN</td></tr>\n",
       "\t<tr><td>III                 </td><td>卵巢癌              </td><td>阳性</td><td>19.57             </td><td>MSS</td><td>2020-12-20</td><td>2020-12</td><td>吴医生</td><td>复旦大学附属肿瘤医院            </td><td>石蜡切片</td><td>⋯</td><td>放化疗史:紫杉醇+卡铂1次（末次11.30）;靶向药物史:无;吸烟史:0                                                                                             </td><td>父亲：肠癌（62）；表哥：胰腺癌（50+）;个人其他肿瘤史:无                                                             </td><td>卵巢高级别浆液性癌                                      </td><td>女</td><td>原发</td><td>20S11060805 </td><td>20S11060805 </td><td>tianhua_system_DX1890</td><td>妇瘤        </td><td>NaN</td></tr>\n",
       "\t<tr><td>不清楚              </td><td>卵巢癌              </td><td>阳性</td><td>25.76             </td><td>MSS</td><td>2020-12-24</td><td>2020-12</td><td>温医生</td><td>复旦大学附属肿瘤医院            </td><td>新鲜组织</td><td>⋯</td><td>放化疗史:无;靶向药物史:无;吸烟史:0                                                                                                                      </td><td>父亲：多发性骨髓瘤（58）;个人其他肿瘤史:无                                                                          </td><td>卵巢癌                                                  </td><td>女</td><td>原发</td><td>20S11060808 </td><td>20S11060808 </td><td>tianhua_system_DX1890</td><td>妇瘤        </td><td>NaN</td></tr>\n",
       "\t<tr><td>II                  </td><td>卵巢癌              </td><td>阳性</td><td>33.97             </td><td>MSS</td><td>2020-12-17</td><td>2020-12</td><td>崔教授</td><td>北京大学人民医院                </td><td>石蜡切片</td><td>⋯</td><td>放化疗史:紫杉醇+卡铂/多柔比星;靶向药物史:无;吸烟史:0                                                                                                    </td><td>个人其他肿瘤史:无                                                                                                   </td><td>卵巢癌                                                  </td><td>女</td><td>原发</td><td>20S12417155 </td><td>20S12417155 </td><td>tianhua_system_DX1890</td><td>妇科肿瘤    </td><td>NaN</td></tr>\n",
       "\t<tr><td>不清楚              </td><td>卵巢癌              </td><td>阴性</td><td>44.89             </td><td>MSS</td><td>2020-12-18</td><td>2020-12</td><td>刘医生</td><td>哈尔滨医科大学附属肿瘤医院      </td><td>石蜡切片</td><td>⋯</td><td>放化疗史:化疗9次;靶向药物史:无;吸烟史:0                                                                                                                 </td><td>个人其他肿瘤史:无                                                                                                   </td><td>左、右卵巢，低级别浆液性腺癌                            </td><td>女</td><td>原发</td><td>20S2128379  </td><td>20S2128379  </td><td>tianhua_system_DX1890</td><td>肿瘤科      </td><td>NaN</td></tr>\n",
       "\t<tr><td>不清楚              </td><td>卵巢癌              </td><td>阳性</td><td>34.39             </td><td>MSS</td><td>2020-12-20</td><td>2020-12</td><td>李医生</td><td>哈尔滨医科大学附属第一医院      </td><td>石蜡切片</td><td>⋯</td><td>放化疗史:6次化疗;靶向药物史:无;吸烟史:0                                                                                                                 </td><td>个人其他肿瘤史:无                                                                                                   </td><td>左、右附件，卵巢高级别浆液性癌                          </td><td>女</td><td>原发</td><td>20S2128382  </td><td>20S2128382  </td><td>tianhua_system_DX1890</td><td>肿瘤科      </td><td>NaN</td></tr>\n",
       "\t<tr><td>不清楚              </td><td>卵巢癌              </td><td>阳性</td><td>9.5299999999999994</td><td>MSS</td><td>2021-01-01</td><td>2021-01</td><td>吴医生</td><td>复旦大学附属肿瘤医院            </td><td>石蜡切片</td><td>⋯</td><td>放化疗史:脂质紫杉醇+洛铂8次（末次12.3）;靶向药物史:无;吸烟史:0                                                                                          </td><td>祖父：肝癌;个人其他肿瘤史:无                                                                                        </td><td>卵巢高级别浆液性癌                                      </td><td>女</td><td>原发</td><td>20S11060803 </td><td>20S11060803 </td><td>tianhua_system_DX1890</td><td>妇瘤        </td><td>NaN</td></tr>\n",
       "\t<tr><td>I                   </td><td>卵巢癌              </td><td>阳性</td><td>-10.18            </td><td>MSS</td><td>2020-12-26</td><td>2020-12</td><td>无    </td><td>肿瘤线上商城                    </td><td>石蜡切片</td><td>⋯</td><td>放化疗史:2020.3.8最后一次化疗;靶向药物史:无;吸烟史:0                                                                                                    </td><td>奶奶妇科恶性肿瘤;个人其他肿瘤史:无                                                                                  </td><td>卵巢癌粘液性                                            </td><td>女</td><td>原发</td><td>20S8320831  </td><td>20S8320831  </td><td>tianhua_system_DX1890</td><td>无          </td><td>NaN</td></tr>\n",
       "\t<tr><td>不清楚              </td><td>胰腺癌              </td><td>阳性</td><td>-27.38            </td><td>MSS</td><td>2020-12-31</td><td>2020-12</td><td>万医生</td><td>株洲市中心医院                  </td><td>石蜡切片</td><td>⋯</td><td>放化疗史:AG方案术前5程，术后1程;靶向药物史:无;吸烟史:0                                                                                                  </td><td>无;个人其他肿瘤史:无                                                                                                </td><td>腺癌                                                    </td><td>女</td><td>原发</td><td>20S8321320  </td><td>20S8321320  </td><td>tianhua_system_DX1890</td><td>肝胆胰脾外科</td><td>NaN</td></tr>\n",
       "\t<tr><td>II                  </td><td>卵巢癌              </td><td>阳性</td><td>-28               </td><td>MSS</td><td>2021-01-08</td><td>2021-01</td><td>王丹青</td><td>四川大学华西第二医院            </td><td>石蜡切片</td><td>⋯</td><td>放化疗史:术后一次化疗;靶向药物史:无;吸烟史:0                                                                                                            </td><td>母亲，卵巢癌，42岁发病;个人其他肿瘤史:无                                                                            </td><td>高级别浆液性腺癌                                        </td><td>女</td><td>原发</td><td>20S10085607 </td><td>20S10085607 </td><td>tianhua_system_DX1890</td><td>妇瘤科      </td><td>NaN</td></tr>\n",
       "\t<tr><td>不清楚              </td><td>卵巢癌              </td><td>阳性</td><td>27                </td><td>MSS</td><td>2021-01-06</td><td>2021-01</td><td>吴医生</td><td>复旦大学附属肿瘤医院            </td><td>石蜡切片</td><td>⋯</td><td>放化疗史:白蛋白紫杉醇+卡铂3次，白蛋白紫杉醇+贝伐周疗3次（末次20年9月）;靶向药物史:奥拉帕利;吸烟史:0                                                     </td><td>母亲胃癌，表妹乳腺癌，舅舅肝癌，外公胃癌;个人其他肿瘤史:无                                                          </td><td>卵巢高级别浆液性癌                                      </td><td>女</td><td>原发</td><td>20S11060799 </td><td>20S11060799 </td><td>tianhua_system_DX1890</td><td>妇瘤        </td><td>NaN</td></tr>\n",
       "\t<tr><td>II                  </td><td>卵巢癌              </td><td>阳性</td><td>32.78             </td><td>MSS</td><td>2021-01-02</td><td>2021-01</td><td>无    </td><td>肿瘤线上商城                    </td><td>石蜡切片</td><td>⋯</td><td>放化疗史:化疗6次;靶向药物史:无;吸烟史:0                                                                                                                 </td><td>个人其他肿瘤史:无                                                                                                   </td><td>高级别浆液性卵巢癌                                      </td><td>女</td><td>原发</td><td>20S8320828  </td><td>20S8320828  </td><td>tianhua_system_DX1890</td><td>无          </td><td>NaN</td></tr>\n",
       "\t<tr><td>II                  </td><td>卵巢癌              </td><td>阳性</td><td>5.72              </td><td>MSS</td><td>2021-01-05</td><td>2021-01</td><td>无    </td><td>肿瘤线上商城                    </td><td>石蜡块  </td><td>⋯</td><td>放化疗史:2012年12月24日开始化疗;靶向药物史:无;吸烟史:0                                                                                                  </td><td>个人其他肿瘤史:无                                                                                                   </td><td>透明型卵巢癌                                            </td><td>女</td><td>原发</td><td>20S8321124  </td><td>20S8321124  </td><td>tianhua_system_DX1890</td><td>无          </td><td>NaN</td></tr>\n",
       "\t<tr><td>III                 </td><td>卵巢癌              </td><td>阳性</td><td>38.85             </td><td>MSS</td><td>2021-01-02</td><td>2021-01</td><td>无    </td><td>肿瘤线上商城                    </td><td>石蜡切片</td><td>⋯</td><td>放化疗史:2020-12-25化疗TC;靶向药物史:无;吸烟史:0                                                                                                        </td><td>个人其他肿瘤史:无                                                                                                   </td><td>高级别浆液性卵巢癌                                      </td><td>女</td><td>转移</td><td>20S8321125  </td><td>20S8321125  </td><td>tianhua_system_DX1890</td><td>无          </td><td>NaN</td></tr>\n",
       "\t<tr><td>I                   </td><td>卵巢癌              </td><td>阴性</td><td>-22.57            </td><td>MSS</td><td>2021-01-12</td><td>2021-01</td><td>无    </td><td>肿瘤线上商城                    </td><td>石蜡切片</td><td>⋯</td><td>放化疗史:无;靶向药物史:无;吸烟史:0                                                                                                                      </td><td>个人其他肿瘤史:2017年卵巢癌1c期切除卵巢，2020年多处复发转移                                                         </td><td>浆液性卵巢癌                                            </td><td>女</td><td>转移</td><td>20S8321128  </td><td>20S8321128  </td><td>tianhua_system_DX1890</td><td>无          </td><td>NaN</td></tr>\n",
       "\t<tr><td>III                 </td><td>卵巢癌              </td><td>阳性</td><td>NaN               </td><td>MSS</td><td>2021-01-23</td><td>2021-01</td><td>蒋医生</td><td>湖北省肿瘤医院                  </td><td>石蜡切片</td><td>⋯</td><td>放化疗史:无;靶向药物史:无;吸烟史:0                                                                                                                      </td><td>NaN                                                                                                                 </td><td>高浆                                                    </td><td>女</td><td>原发</td><td>20S12418501 </td><td>20S12418501 </td><td>tianhua_system_DX1890</td><td>妇瘤        </td><td>无 </td></tr>\n",
       "\t<tr><td>IV;IV;IV            </td><td>卵巢癌;卵巢癌;卵巢癌</td><td>阴性</td><td>NaN               </td><td>MSS</td><td>2021-01-28</td><td>2021-01</td><td>-     </td><td>北京易得好康科技有限公司        </td><td>石蜡切片</td><td>⋯</td><td>放化疗史:-;靶向药物史:-;吸烟史:00;放化疗史:-;靶向药物史:-;吸烟史:00;放化疗史:-;靶向药物史:-;吸烟史:00                                                   </td><td>NaN                                                                                                                 </td><td>卵巢癌;卵巢癌;卵巢癌                                    </td><td>女</td><td>原发</td><td>20S12587524 </td><td>20S12587524 </td><td>tianhua_system_DX1890</td><td>-           </td><td>-  </td></tr>\n",
       "\t<tr><td>III                 </td><td>卵巢癌              </td><td>阳性</td><td>NaN               </td><td>MSS</td><td>2021-01-29</td><td>2021-01</td><td>无    </td><td>肿瘤线上商城                    </td><td>石蜡切片</td><td>⋯</td><td>放化疗史:术前新辅助化疗2次;靶向药物史:无;吸烟史:0                                                                                                       </td><td>NaN                                                                                                                 </td><td>高浆型卵巢癌                                            </td><td>女</td><td>原发</td><td>21S02755657 </td><td>21S02755657 </td><td>tianhua_system_DX1890</td><td>无          </td><td>无 </td></tr>\n",
       "</tbody>\n",
       "</table>\n"
      ],
      "text/latex": [
       "A data.table: 34 × 22\n",
       "\\begin{tabular}{lllllllllllllllllllll}\n",
       " CANCER\\_STAGE & CANCER\\_TYPE & GENETIC\\_TEST\\_RESULT & HRD\\_SCORE & MSI\\_STATUS & SAMPLE\\_COLLECTION\\_DATE & SAMPLE\\_COLLECTION\\_MONTH & SAMPLE\\_SOURCE\\_DOCTOR & SAMPLE\\_SOURCE\\_PATH & SAMPLE\\_TYPE\\_DETAILED & ⋯ & ALCOHOL\\_HISTORY & FAMILY\\_HISTORY\\_OF\\_CANCER & PATHOLOGICAL\\_DIAGNOSIS & SEX & TUMOR\\_METASTASIS\\_STATUS & patientId & Tumor\\_Sample\\_Barcode & studyId & HOSPITAL\\_DEPARTMENT & PERSONAL\\_HISTORY\\\\\n",
       " <fct> & <fct> & <fct> & <fct> & <fct> & <fct> & <fct> & <fct> & <fct> & <fct> & ⋯ & <fct> & <fct> & <fct> & <fct> & <fct> & <fct> & <fct> & <fct> & <fct> & <fct>\\\\\n",
       "\\hline\n",
       "\t IV;IV;IV             & 卵巢癌;卵巢癌;卵巢癌 & 阳性 & -22.09             & MSS & 2020-07-15 & 2020-07 & 王珂   & 天津市肿瘤医院                   & 石蜡切片 & ⋯ & 放化疗史:2020-7-1化疗;靶向药物史:贝伐单抗;吸烟史:0;放化疗史:2020-7-1化疗;靶向药物史:贝伐单抗;吸烟史:0;放化疗史:2020-7-1化疗;靶向药物史:贝伐单抗;吸烟史:0 & 姐姐1肺癌，姐姐2乳腺癌;姐姐1肺癌，姐姐2乳腺癌;姐姐1肺癌，姐姐2乳腺癌                                                 & 卵巢高级别浆液性癌;卵巢高级别浆液性癌;卵巢高级别浆液性癌 & 女 & 原发 & 19S3185741   & 19S3185741   & tianhua\\_system\\_DX1890 & NaN          & NaN\\\\\n",
       "\t III;III;III          & 卵巢癌;卵巢癌;卵巢癌 & 阳性 & -28.96             & MSS & 2020-07-15 & 2020-07 & 李雷   & 中国医学科学院北京协和医院       & 组织     & ⋯ & 放化疗史:化疗三次;靶向药物史:无;吸烟史:0;放化疗史:化疗三次;靶向药物史:无;吸烟史:0;放化疗史:化疗三次;靶向药物史:无;吸烟史:0                               & 母亲鼻咽癌83年去世;个人其他肿瘤史:不详;母亲鼻咽癌83年去世;个人其他肿瘤史:不详;母亲鼻咽癌83年去世;个人其他肿瘤史:不详 & 低级别浆液性卵巢癌;低级别浆液性卵巢癌;低级别浆液性卵巢癌 & 女 & 原发 & 20S2123870   & 20S2123870   & tianhua\\_system\\_DX1890 & 妇科         & NaN\\\\\n",
       "\t 不清楚;不清楚;不清楚 & 卵巢癌;卵巢癌;卵巢癌 & 阳性 & 31.3               & MSS & 2020-07-16 & 2020-07 & 潘凌亚 & 中国医学科学院北京协和医院       & 石蜡切片 & ⋯ & 放化疗史:2009-20108次化疗;靶向药物史:无;吸烟史:0;放化疗史:2009-20108次化疗;靶向药物史:无;吸烟史:0;放化疗史:2009-20108次化疗;靶向药物史:无;吸烟史:0       & 妈妈妇科疾病，姨娘妇科疾病;妈妈妇科疾病，姨娘妇科疾病;妈妈妇科疾病，姨娘妇科疾病                                     & 高级浆液型;高级浆液型;高级浆液型                         & 女 & 原发 & 20S2123920   & 20S2123920   & tianhua\\_system\\_DX1890 & NaN          & NaN\\\\\n",
       "\t III;III;III          & 卵巢癌;卵巢癌;卵巢癌 & 阳性 & 59.91              & MSS & 2020-07-15 & 2020-07 & 李雷   & 中国医学科学院北京协和医院       & 组织     & ⋯ & 放化疗史:术前三次术后六次;靶向药物史:无;吸烟史:0;放化疗史:术前三次术后六次;靶向药物史:无;吸烟史:0;放化疗史:术前三次术后六次;靶向药物史:无;吸烟史:0       & 无;无;无                                                                                                             & 高级别浆液性卵巢癌;高级别浆液性卵巢癌;高级别浆液性卵巢癌 & 女 & 原发 & 20S2123924   & 20S2123924   & tianhua\\_system\\_DX1890 & NaN          & NaN\\\\\n",
       "\t IV                   & 卵巢癌               & 阳性 & 44.9               & MSS & 2020-08-06 & 2020-08 & 无     & 湖南省肿瘤医院                   & 石蜡切片 & ⋯ & 放化疗史:无;靶向药物史:无;吸烟史:0                                                                                                                       & 无;个人其他肿瘤史:无                                                                                                 & 卵巢腺癌                                                 & 女 & 原发 & 19S3200601   & 19S3200601   & tianhua\\_system\\_DX1890 & 妇瘤科       & NaN\\\\\n",
       "\t I                    & 卵巢癌               & 阳性 & 12.62              & MSS & 2020-08-10 & 2020-08 & 王辛   & 四川大学华西医院                 & 石蜡切片 & ⋯ & 放化疗史:TC两次;靶向药物史:无;吸烟史:0                                                                                                                   & 父亲，肺癌71岁;个人其他肿瘤史:无                                                                                     & 透明细胞癌                                               & 女 & 原发 & 20S2449702   & 20S2449702   & tianhua\\_system\\_DX1890 & 肿瘤科       & NaN\\\\\n",
       "\t IV                   & 卵巢癌               & 阳性 & 17.64              & MSS & 2020-08-22 & 2020-08 & 吴鸣   & 中国医学科学院北京协和医院       & 石蜡切片 & ⋯ & 放化疗史:四次化疗;靶向药物史:贝伐两次;吸烟史:0                                                                                                           & 无;个人其他肿瘤史:无                                                                                                 & 卵巢癌                                                   & 女 & 原发 & 20S2123955   & 20S2123955   & tianhua\\_system\\_DX1890 & 妇瘤科       & NaN\\\\\n",
       "\t 不清楚               & 卵巢癌               & 阳性 & -25.51             & MSS & 2020-11-19 & 2020-11 & 无     & 肿瘤线上商城                     & 石蜡切片 & ⋯ & 放化疗史:10.14最近一次化疗;靶向药物史:无;吸烟史:0                                                                                                        & 个人其他肿瘤史:无                                                                                                    & 卵巢癌                                                   & 女 & 原发 & 20S8320973   & 20S8320973   & tianhua\\_system\\_DX1890 & 无           & NaN\\\\\n",
       "\t III                  & 卵巢癌               & 阳性 & 49.28              & MSS & 2020-11-26 & 2020-11 & 无     & 江西艾迪健康信息咨询服务有限公司 & 石蜡切片 & ⋯ & 放化疗史:无;靶向药物史:无;吸烟史:0                                                                                                                       & 个人其他肿瘤史:无                                                                                                    & 原发                                                     & 女 & 原发 & 20S10084701  & 20S10084701  & tianhua\\_system\\_DX1890 & 无           & NaN\\\\\n",
       "\t 不清楚               & 卵巢癌               & 阳性 & 31.85              & MSS & 2020-11-27 & 2020-11 & 夏医生 & 复旦大学附属肿瘤医院             & 石蜡切片 & ⋯ & 放化疗史:紫杉醇+卡铂4次;靶向药物史:无;吸烟史:0                                                                                                           & 无;个人其他肿瘤史:无                                                                                                 & 卵巢癌                                                   & 女 & 原发 & 20S11060832  & 20S11060832  & tianhua\\_system\\_DX1890 & 妇瘤         & NaN\\\\\n",
       "\t III                  & 卵巢癌               & 阳性 & 55.19              & MSS & 2020-12-04 & 2020-12 & 无     & 肿瘤线上商城                     & 石蜡切片 & ⋯ & 放化疗史:化疗中，2020年11月4日紫杉醇+卡铂;靶向药物史:无;吸烟史:0                                                                                         & 患者父亲结肠癌;个人其他肿瘤史:无                                                                                     & 高级别浆液性卵巢癌                                       & 女 & 原发 & 20S8321155R  & 20S8321155R  & tianhua\\_system\\_DX1890 & 无           & NaN\\\\\n",
       "\t 不清楚               & 卵巢癌               & 阳性 & 48.88              & MSS & 2020-12-03 & 2020-12 & 温医生 & 复旦大学附属肿瘤医院             & 新鲜组织 & ⋯ & 放化疗史:无;靶向药物史:无;吸烟史:0                                                                                                                       & 无;个人其他肿瘤史:无                                                                                                 & 卵巢癌                                                   & 女 & 原发 & 20S11060826  & 20S11060826  & tianhua\\_system\\_DX1890 & 妇瘤         & NaN\\\\\n",
       "\t 不清楚               & 卵巢癌               & 阴性 & -29.18             & MSS & 2020-12-08 & 2020-12 & 温医生 & 复旦大学附属肿瘤医院             & 新鲜组织 & ⋯ & 放化疗史:周疗8次（末次11.6）;靶向药物史:无;吸烟史:0                                                                                                      & 哥哥：前列腺癌（70+）;个人其他肿瘤史:无                                                                              & 卵巢高级别浆液性癌                                       & 女 & 原发 & 20S11060827  & 20S11060827  & tianhua\\_system\\_DX1890 & 妇瘤         & NaN\\\\\n",
       "\t 不清楚               & 卵巢癌               & 阳性 & 57.12              & MSS & 2020-12-12 & 2020-12 & 温医生 & 复旦大学附属肿瘤医院             & 石蜡切片 & ⋯ & 放化疗史:周疗8次（末次11.6）;靶向药物史:无;吸烟史:0                                                                                                      & 哥哥：前列腺癌（70+）;个人其他肿瘤史:无                                                                              & 卵巢高级别浆液性癌                                       & 女 & 原发 & 20S11060827R & 20S11060827R & tianhua\\_system\\_DX1890 & 妇瘤         & NaN\\\\\n",
       "\t 不清楚               & 卵巢癌               & 阳性 & 62.47              & MSS & 2020-12-08 & 2020-12 & 催     & 北京大学人民医院                 & 石蜡切片 & ⋯ & 放化疗史:无;靶向药物史:无;吸烟史:0                                                                                                                       & 姨卵巢癌;个人其他肿瘤史:无                                                                                           & 卵巢癌                                                   & 女 & 原发 & 20S12417159  & 20S12417159  & tianhua\\_system\\_DX1890 & 妇科肿瘤     & NaN\\\\\n",
       "\t 不清楚               & 卵巢癌               & 阳性 & 5.52               & MSS & 2020-12-11 & 2020-12 & 吴鸣   & 中国医学科学院北京协和医院       & 石蜡切片 & ⋯ & 放化疗史:9次化疗;靶向药物史:无;吸烟史:0                                                                                                                  & 无;个人其他肿瘤史:无                                                                                                 & 卵巢透明细胞癌                                           & 女 & 原发 & 20S12588855  & 20S12588855  & tianhua\\_system\\_DX1890 & 妇科         & NaN\\\\\n",
       "\t III                  & 卵巢癌               & 阳性 & 23.03              & MSS & 2020-12-17 & 2020-12 & 张老师 & 天津市中心妇产科医院             & 石蜡切片 & ⋯ & 放化疗史:化疗6期;靶向药物史:无;吸烟史:0                                                                                                                  & 妈妈子宫肿瘤，二姨乳腺癌，姨姥姥直肠癌;个人其他肿瘤史:无                                                             & 高级别浆液性卵巢癌                                       & 女 & 原发 & 19S3199300   & 19S3199300   & tianhua\\_system\\_DX1890 & 妇瘤科       & NaN\\\\\n",
       "\t III                  & 卵巢癌               & 阳性 & 19.57              & MSS & 2020-12-20 & 2020-12 & 吴医生 & 复旦大学附属肿瘤医院             & 石蜡切片 & ⋯ & 放化疗史:紫杉醇+卡铂1次（末次11.30）;靶向药物史:无;吸烟史:0                                                                                              & 父亲：肠癌（62）；表哥：胰腺癌（50+）;个人其他肿瘤史:无                                                              & 卵巢高级别浆液性癌                                       & 女 & 原发 & 20S11060805  & 20S11060805  & tianhua\\_system\\_DX1890 & 妇瘤         & NaN\\\\\n",
       "\t 不清楚               & 卵巢癌               & 阳性 & 25.76              & MSS & 2020-12-24 & 2020-12 & 温医生 & 复旦大学附属肿瘤医院             & 新鲜组织 & ⋯ & 放化疗史:无;靶向药物史:无;吸烟史:0                                                                                                                       & 父亲：多发性骨髓瘤（58）;个人其他肿瘤史:无                                                                           & 卵巢癌                                                   & 女 & 原发 & 20S11060808  & 20S11060808  & tianhua\\_system\\_DX1890 & 妇瘤         & NaN\\\\\n",
       "\t II                   & 卵巢癌               & 阳性 & 33.97              & MSS & 2020-12-17 & 2020-12 & 崔教授 & 北京大学人民医院                 & 石蜡切片 & ⋯ & 放化疗史:紫杉醇+卡铂/多柔比星;靶向药物史:无;吸烟史:0                                                                                                     & 个人其他肿瘤史:无                                                                                                    & 卵巢癌                                                   & 女 & 原发 & 20S12417155  & 20S12417155  & tianhua\\_system\\_DX1890 & 妇科肿瘤     & NaN\\\\\n",
       "\t 不清楚               & 卵巢癌               & 阴性 & 44.89              & MSS & 2020-12-18 & 2020-12 & 刘医生 & 哈尔滨医科大学附属肿瘤医院       & 石蜡切片 & ⋯ & 放化疗史:化疗9次;靶向药物史:无;吸烟史:0                                                                                                                  & 个人其他肿瘤史:无                                                                                                    & 左、右卵巢，低级别浆液性腺癌                             & 女 & 原发 & 20S2128379   & 20S2128379   & tianhua\\_system\\_DX1890 & 肿瘤科       & NaN\\\\\n",
       "\t 不清楚               & 卵巢癌               & 阳性 & 34.39              & MSS & 2020-12-20 & 2020-12 & 李医生 & 哈尔滨医科大学附属第一医院       & 石蜡切片 & ⋯ & 放化疗史:6次化疗;靶向药物史:无;吸烟史:0                                                                                                                  & 个人其他肿瘤史:无                                                                                                    & 左、右附件，卵巢高级别浆液性癌                           & 女 & 原发 & 20S2128382   & 20S2128382   & tianhua\\_system\\_DX1890 & 肿瘤科       & NaN\\\\\n",
       "\t 不清楚               & 卵巢癌               & 阳性 & 9.5299999999999994 & MSS & 2021-01-01 & 2021-01 & 吴医生 & 复旦大学附属肿瘤医院             & 石蜡切片 & ⋯ & 放化疗史:脂质紫杉醇+洛铂8次（末次12.3）;靶向药物史:无;吸烟史:0                                                                                           & 祖父：肝癌;个人其他肿瘤史:无                                                                                         & 卵巢高级别浆液性癌                                       & 女 & 原发 & 20S11060803  & 20S11060803  & tianhua\\_system\\_DX1890 & 妇瘤         & NaN\\\\\n",
       "\t I                    & 卵巢癌               & 阳性 & -10.18             & MSS & 2020-12-26 & 2020-12 & 无     & 肿瘤线上商城                     & 石蜡切片 & ⋯ & 放化疗史:2020.3.8最后一次化疗;靶向药物史:无;吸烟史:0                                                                                                     & 奶奶妇科恶性肿瘤;个人其他肿瘤史:无                                                                                   & 卵巢癌粘液性                                             & 女 & 原发 & 20S8320831   & 20S8320831   & tianhua\\_system\\_DX1890 & 无           & NaN\\\\\n",
       "\t 不清楚               & 胰腺癌               & 阳性 & -27.38             & MSS & 2020-12-31 & 2020-12 & 万医生 & 株洲市中心医院                   & 石蜡切片 & ⋯ & 放化疗史:AG方案术前5程，术后1程;靶向药物史:无;吸烟史:0                                                                                                   & 无;个人其他肿瘤史:无                                                                                                 & 腺癌                                                     & 女 & 原发 & 20S8321320   & 20S8321320   & tianhua\\_system\\_DX1890 & 肝胆胰脾外科 & NaN\\\\\n",
       "\t II                   & 卵巢癌               & 阳性 & -28                & MSS & 2021-01-08 & 2021-01 & 王丹青 & 四川大学华西第二医院             & 石蜡切片 & ⋯ & 放化疗史:术后一次化疗;靶向药物史:无;吸烟史:0                                                                                                             & 母亲，卵巢癌，42岁发病;个人其他肿瘤史:无                                                                             & 高级别浆液性腺癌                                         & 女 & 原发 & 20S10085607  & 20S10085607  & tianhua\\_system\\_DX1890 & 妇瘤科       & NaN\\\\\n",
       "\t 不清楚               & 卵巢癌               & 阳性 & 27                 & MSS & 2021-01-06 & 2021-01 & 吴医生 & 复旦大学附属肿瘤医院             & 石蜡切片 & ⋯ & 放化疗史:白蛋白紫杉醇+卡铂3次，白蛋白紫杉醇+贝伐周疗3次（末次20年9月）;靶向药物史:奥拉帕利;吸烟史:0                                                      & 母亲胃癌，表妹乳腺癌，舅舅肝癌，外公胃癌;个人其他肿瘤史:无                                                           & 卵巢高级别浆液性癌                                       & 女 & 原发 & 20S11060799  & 20S11060799  & tianhua\\_system\\_DX1890 & 妇瘤         & NaN\\\\\n",
       "\t II                   & 卵巢癌               & 阳性 & 32.78              & MSS & 2021-01-02 & 2021-01 & 无     & 肿瘤线上商城                     & 石蜡切片 & ⋯ & 放化疗史:化疗6次;靶向药物史:无;吸烟史:0                                                                                                                  & 个人其他肿瘤史:无                                                                                                    & 高级别浆液性卵巢癌                                       & 女 & 原发 & 20S8320828   & 20S8320828   & tianhua\\_system\\_DX1890 & 无           & NaN\\\\\n",
       "\t II                   & 卵巢癌               & 阳性 & 5.72               & MSS & 2021-01-05 & 2021-01 & 无     & 肿瘤线上商城                     & 石蜡块   & ⋯ & 放化疗史:2012年12月24日开始化疗;靶向药物史:无;吸烟史:0                                                                                                   & 个人其他肿瘤史:无                                                                                                    & 透明型卵巢癌                                             & 女 & 原发 & 20S8321124   & 20S8321124   & tianhua\\_system\\_DX1890 & 无           & NaN\\\\\n",
       "\t III                  & 卵巢癌               & 阳性 & 38.85              & MSS & 2021-01-02 & 2021-01 & 无     & 肿瘤线上商城                     & 石蜡切片 & ⋯ & 放化疗史:2020-12-25化疗TC;靶向药物史:无;吸烟史:0                                                                                                         & 个人其他肿瘤史:无                                                                                                    & 高级别浆液性卵巢癌                                       & 女 & 转移 & 20S8321125   & 20S8321125   & tianhua\\_system\\_DX1890 & 无           & NaN\\\\\n",
       "\t I                    & 卵巢癌               & 阴性 & -22.57             & MSS & 2021-01-12 & 2021-01 & 无     & 肿瘤线上商城                     & 石蜡切片 & ⋯ & 放化疗史:无;靶向药物史:无;吸烟史:0                                                                                                                       & 个人其他肿瘤史:2017年卵巢癌1c期切除卵巢，2020年多处复发转移                                                          & 浆液性卵巢癌                                             & 女 & 转移 & 20S8321128   & 20S8321128   & tianhua\\_system\\_DX1890 & 无           & NaN\\\\\n",
       "\t III                  & 卵巢癌               & 阳性 & NaN                & MSS & 2021-01-23 & 2021-01 & 蒋医生 & 湖北省肿瘤医院                   & 石蜡切片 & ⋯ & 放化疗史:无;靶向药物史:无;吸烟史:0                                                                                                                       & NaN                                                                                                                  & 高浆                                                     & 女 & 原发 & 20S12418501  & 20S12418501  & tianhua\\_system\\_DX1890 & 妇瘤         & 无 \\\\\n",
       "\t IV;IV;IV             & 卵巢癌;卵巢癌;卵巢癌 & 阴性 & NaN                & MSS & 2021-01-28 & 2021-01 & -      & 北京易得好康科技有限公司         & 石蜡切片 & ⋯ & 放化疗史:-;靶向药物史:-;吸烟史:00;放化疗史:-;靶向药物史:-;吸烟史:00;放化疗史:-;靶向药物史:-;吸烟史:00                                                    & NaN                                                                                                                  & 卵巢癌;卵巢癌;卵巢癌                                     & 女 & 原发 & 20S12587524  & 20S12587524  & tianhua\\_system\\_DX1890 & -            & -  \\\\\n",
       "\t III                  & 卵巢癌               & 阳性 & NaN                & MSS & 2021-01-29 & 2021-01 & 无     & 肿瘤线上商城                     & 石蜡切片 & ⋯ & 放化疗史:术前新辅助化疗2次;靶向药物史:无;吸烟史:0                                                                                                        & NaN                                                                                                                  & 高浆型卵巢癌                                             & 女 & 原发 & 21S02755657  & 21S02755657  & tianhua\\_system\\_DX1890 & 无           & 无 \\\\\n",
       "\\end{tabular}\n"
      ],
      "text/markdown": [
       "\n",
       "A data.table: 34 × 22\n",
       "\n",
       "| CANCER_STAGE &lt;fct&gt; | CANCER_TYPE &lt;fct&gt; | GENETIC_TEST_RESULT &lt;fct&gt; | HRD_SCORE &lt;fct&gt; | MSI_STATUS &lt;fct&gt; | SAMPLE_COLLECTION_DATE &lt;fct&gt; | SAMPLE_COLLECTION_MONTH &lt;fct&gt; | SAMPLE_SOURCE_DOCTOR &lt;fct&gt; | SAMPLE_SOURCE_PATH &lt;fct&gt; | SAMPLE_TYPE_DETAILED &lt;fct&gt; | ⋯ ⋯ | ALCOHOL_HISTORY &lt;fct&gt; | FAMILY_HISTORY_OF_CANCER &lt;fct&gt; | PATHOLOGICAL_DIAGNOSIS &lt;fct&gt; | SEX &lt;fct&gt; | TUMOR_METASTASIS_STATUS &lt;fct&gt; | patientId &lt;fct&gt; | Tumor_Sample_Barcode &lt;fct&gt; | studyId &lt;fct&gt; | HOSPITAL_DEPARTMENT &lt;fct&gt; | PERSONAL_HISTORY &lt;fct&gt; |\n",
       "|---|---|---|---|---|---|---|---|---|---|---|---|---|---|---|---|---|---|---|---|---|\n",
       "| IV;IV;IV             | 卵巢癌;卵巢癌;卵巢癌 | 阳性 | -22.09             | MSS | 2020-07-15 | 2020-07 | 王珂   | 天津市肿瘤医院                   | 石蜡切片 | ⋯ | 放化疗史:2020-7-1化疗;靶向药物史:贝伐单抗;吸烟史:0;放化疗史:2020-7-1化疗;靶向药物史:贝伐单抗;吸烟史:0;放化疗史:2020-7-1化疗;靶向药物史:贝伐单抗;吸烟史:0 | 姐姐1肺癌，姐姐2乳腺癌;姐姐1肺癌，姐姐2乳腺癌;姐姐1肺癌，姐姐2乳腺癌                                                 | 卵巢高级别浆液性癌;卵巢高级别浆液性癌;卵巢高级别浆液性癌 | 女 | 原发 | 19S3185741   | 19S3185741   | tianhua_system_DX1890 | NaN          | NaN |\n",
       "| III;III;III          | 卵巢癌;卵巢癌;卵巢癌 | 阳性 | -28.96             | MSS | 2020-07-15 | 2020-07 | 李雷   | 中国医学科学院北京协和医院       | 组织     | ⋯ | 放化疗史:化疗三次;靶向药物史:无;吸烟史:0;放化疗史:化疗三次;靶向药物史:无;吸烟史:0;放化疗史:化疗三次;靶向药物史:无;吸烟史:0                               | 母亲鼻咽癌83年去世;个人其他肿瘤史:不详;母亲鼻咽癌83年去世;个人其他肿瘤史:不详;母亲鼻咽癌83年去世;个人其他肿瘤史:不详 | 低级别浆液性卵巢癌;低级别浆液性卵巢癌;低级别浆液性卵巢癌 | 女 | 原发 | 20S2123870   | 20S2123870   | tianhua_system_DX1890 | 妇科         | NaN |\n",
       "| 不清楚;不清楚;不清楚 | 卵巢癌;卵巢癌;卵巢癌 | 阳性 | 31.3               | MSS | 2020-07-16 | 2020-07 | 潘凌亚 | 中国医学科学院北京协和医院       | 石蜡切片 | ⋯ | 放化疗史:2009-20108次化疗;靶向药物史:无;吸烟史:0;放化疗史:2009-20108次化疗;靶向药物史:无;吸烟史:0;放化疗史:2009-20108次化疗;靶向药物史:无;吸烟史:0       | 妈妈妇科疾病，姨娘妇科疾病;妈妈妇科疾病，姨娘妇科疾病;妈妈妇科疾病，姨娘妇科疾病                                     | 高级浆液型;高级浆液型;高级浆液型                         | 女 | 原发 | 20S2123920   | 20S2123920   | tianhua_system_DX1890 | NaN          | NaN |\n",
       "| III;III;III          | 卵巢癌;卵巢癌;卵巢癌 | 阳性 | 59.91              | MSS | 2020-07-15 | 2020-07 | 李雷   | 中国医学科学院北京协和医院       | 组织     | ⋯ | 放化疗史:术前三次术后六次;靶向药物史:无;吸烟史:0;放化疗史:术前三次术后六次;靶向药物史:无;吸烟史:0;放化疗史:术前三次术后六次;靶向药物史:无;吸烟史:0       | 无;无;无                                                                                                             | 高级别浆液性卵巢癌;高级别浆液性卵巢癌;高级别浆液性卵巢癌 | 女 | 原发 | 20S2123924   | 20S2123924   | tianhua_system_DX1890 | NaN          | NaN |\n",
       "| IV                   | 卵巢癌               | 阳性 | 44.9               | MSS | 2020-08-06 | 2020-08 | 无     | 湖南省肿瘤医院                   | 石蜡切片 | ⋯ | 放化疗史:无;靶向药物史:无;吸烟史:0                                                                                                                       | 无;个人其他肿瘤史:无                                                                                                 | 卵巢腺癌                                                 | 女 | 原发 | 19S3200601   | 19S3200601   | tianhua_system_DX1890 | 妇瘤科       | NaN |\n",
       "| I                    | 卵巢癌               | 阳性 | 12.62              | MSS | 2020-08-10 | 2020-08 | 王辛   | 四川大学华西医院                 | 石蜡切片 | ⋯ | 放化疗史:TC两次;靶向药物史:无;吸烟史:0                                                                                                                   | 父亲，肺癌71岁;个人其他肿瘤史:无                                                                                     | 透明细胞癌                                               | 女 | 原发 | 20S2449702   | 20S2449702   | tianhua_system_DX1890 | 肿瘤科       | NaN |\n",
       "| IV                   | 卵巢癌               | 阳性 | 17.64              | MSS | 2020-08-22 | 2020-08 | 吴鸣   | 中国医学科学院北京协和医院       | 石蜡切片 | ⋯ | 放化疗史:四次化疗;靶向药物史:贝伐两次;吸烟史:0                                                                                                           | 无;个人其他肿瘤史:无                                                                                                 | 卵巢癌                                                   | 女 | 原发 | 20S2123955   | 20S2123955   | tianhua_system_DX1890 | 妇瘤科       | NaN |\n",
       "| 不清楚               | 卵巢癌               | 阳性 | -25.51             | MSS | 2020-11-19 | 2020-11 | 无     | 肿瘤线上商城                     | 石蜡切片 | ⋯ | 放化疗史:10.14最近一次化疗;靶向药物史:无;吸烟史:0                                                                                                        | 个人其他肿瘤史:无                                                                                                    | 卵巢癌                                                   | 女 | 原发 | 20S8320973   | 20S8320973   | tianhua_system_DX1890 | 无           | NaN |\n",
       "| III                  | 卵巢癌               | 阳性 | 49.28              | MSS | 2020-11-26 | 2020-11 | 无     | 江西艾迪健康信息咨询服务有限公司 | 石蜡切片 | ⋯ | 放化疗史:无;靶向药物史:无;吸烟史:0                                                                                                                       | 个人其他肿瘤史:无                                                                                                    | 原发                                                     | 女 | 原发 | 20S10084701  | 20S10084701  | tianhua_system_DX1890 | 无           | NaN |\n",
       "| 不清楚               | 卵巢癌               | 阳性 | 31.85              | MSS | 2020-11-27 | 2020-11 | 夏医生 | 复旦大学附属肿瘤医院             | 石蜡切片 | ⋯ | 放化疗史:紫杉醇+卡铂4次;靶向药物史:无;吸烟史:0                                                                                                           | 无;个人其他肿瘤史:无                                                                                                 | 卵巢癌                                                   | 女 | 原发 | 20S11060832  | 20S11060832  | tianhua_system_DX1890 | 妇瘤         | NaN |\n",
       "| III                  | 卵巢癌               | 阳性 | 55.19              | MSS | 2020-12-04 | 2020-12 | 无     | 肿瘤线上商城                     | 石蜡切片 | ⋯ | 放化疗史:化疗中，2020年11月4日紫杉醇+卡铂;靶向药物史:无;吸烟史:0                                                                                         | 患者父亲结肠癌;个人其他肿瘤史:无                                                                                     | 高级别浆液性卵巢癌                                       | 女 | 原发 | 20S8321155R  | 20S8321155R  | tianhua_system_DX1890 | 无           | NaN |\n",
       "| 不清楚               | 卵巢癌               | 阳性 | 48.88              | MSS | 2020-12-03 | 2020-12 | 温医生 | 复旦大学附属肿瘤医院             | 新鲜组织 | ⋯ | 放化疗史:无;靶向药物史:无;吸烟史:0                                                                                                                       | 无;个人其他肿瘤史:无                                                                                                 | 卵巢癌                                                   | 女 | 原发 | 20S11060826  | 20S11060826  | tianhua_system_DX1890 | 妇瘤         | NaN |\n",
       "| 不清楚               | 卵巢癌               | 阴性 | -29.18             | MSS | 2020-12-08 | 2020-12 | 温医生 | 复旦大学附属肿瘤医院             | 新鲜组织 | ⋯ | 放化疗史:周疗8次（末次11.6）;靶向药物史:无;吸烟史:0                                                                                                      | 哥哥：前列腺癌（70+）;个人其他肿瘤史:无                                                                              | 卵巢高级别浆液性癌                                       | 女 | 原发 | 20S11060827  | 20S11060827  | tianhua_system_DX1890 | 妇瘤         | NaN |\n",
       "| 不清楚               | 卵巢癌               | 阳性 | 57.12              | MSS | 2020-12-12 | 2020-12 | 温医生 | 复旦大学附属肿瘤医院             | 石蜡切片 | ⋯ | 放化疗史:周疗8次（末次11.6）;靶向药物史:无;吸烟史:0                                                                                                      | 哥哥：前列腺癌（70+）;个人其他肿瘤史:无                                                                              | 卵巢高级别浆液性癌                                       | 女 | 原发 | 20S11060827R | 20S11060827R | tianhua_system_DX1890 | 妇瘤         | NaN |\n",
       "| 不清楚               | 卵巢癌               | 阳性 | 62.47              | MSS | 2020-12-08 | 2020-12 | 催     | 北京大学人民医院                 | 石蜡切片 | ⋯ | 放化疗史:无;靶向药物史:无;吸烟史:0                                                                                                                       | 姨卵巢癌;个人其他肿瘤史:无                                                                                           | 卵巢癌                                                   | 女 | 原发 | 20S12417159  | 20S12417159  | tianhua_system_DX1890 | 妇科肿瘤     | NaN |\n",
       "| 不清楚               | 卵巢癌               | 阳性 | 5.52               | MSS | 2020-12-11 | 2020-12 | 吴鸣   | 中国医学科学院北京协和医院       | 石蜡切片 | ⋯ | 放化疗史:9次化疗;靶向药物史:无;吸烟史:0                                                                                                                  | 无;个人其他肿瘤史:无                                                                                                 | 卵巢透明细胞癌                                           | 女 | 原发 | 20S12588855  | 20S12588855  | tianhua_system_DX1890 | 妇科         | NaN |\n",
       "| III                  | 卵巢癌               | 阳性 | 23.03              | MSS | 2020-12-17 | 2020-12 | 张老师 | 天津市中心妇产科医院             | 石蜡切片 | ⋯ | 放化疗史:化疗6期;靶向药物史:无;吸烟史:0                                                                                                                  | 妈妈子宫肿瘤，二姨乳腺癌，姨姥姥直肠癌;个人其他肿瘤史:无                                                             | 高级别浆液性卵巢癌                                       | 女 | 原发 | 19S3199300   | 19S3199300   | tianhua_system_DX1890 | 妇瘤科       | NaN |\n",
       "| III                  | 卵巢癌               | 阳性 | 19.57              | MSS | 2020-12-20 | 2020-12 | 吴医生 | 复旦大学附属肿瘤医院             | 石蜡切片 | ⋯ | 放化疗史:紫杉醇+卡铂1次（末次11.30）;靶向药物史:无;吸烟史:0                                                                                              | 父亲：肠癌（62）；表哥：胰腺癌（50+）;个人其他肿瘤史:无                                                              | 卵巢高级别浆液性癌                                       | 女 | 原发 | 20S11060805  | 20S11060805  | tianhua_system_DX1890 | 妇瘤         | NaN |\n",
       "| 不清楚               | 卵巢癌               | 阳性 | 25.76              | MSS | 2020-12-24 | 2020-12 | 温医生 | 复旦大学附属肿瘤医院             | 新鲜组织 | ⋯ | 放化疗史:无;靶向药物史:无;吸烟史:0                                                                                                                       | 父亲：多发性骨髓瘤（58）;个人其他肿瘤史:无                                                                           | 卵巢癌                                                   | 女 | 原发 | 20S11060808  | 20S11060808  | tianhua_system_DX1890 | 妇瘤         | NaN |\n",
       "| II                   | 卵巢癌               | 阳性 | 33.97              | MSS | 2020-12-17 | 2020-12 | 崔教授 | 北京大学人民医院                 | 石蜡切片 | ⋯ | 放化疗史:紫杉醇+卡铂/多柔比星;靶向药物史:无;吸烟史:0                                                                                                     | 个人其他肿瘤史:无                                                                                                    | 卵巢癌                                                   | 女 | 原发 | 20S12417155  | 20S12417155  | tianhua_system_DX1890 | 妇科肿瘤     | NaN |\n",
       "| 不清楚               | 卵巢癌               | 阴性 | 44.89              | MSS | 2020-12-18 | 2020-12 | 刘医生 | 哈尔滨医科大学附属肿瘤医院       | 石蜡切片 | ⋯ | 放化疗史:化疗9次;靶向药物史:无;吸烟史:0                                                                                                                  | 个人其他肿瘤史:无                                                                                                    | 左、右卵巢，低级别浆液性腺癌                             | 女 | 原发 | 20S2128379   | 20S2128379   | tianhua_system_DX1890 | 肿瘤科       | NaN |\n",
       "| 不清楚               | 卵巢癌               | 阳性 | 34.39              | MSS | 2020-12-20 | 2020-12 | 李医生 | 哈尔滨医科大学附属第一医院       | 石蜡切片 | ⋯ | 放化疗史:6次化疗;靶向药物史:无;吸烟史:0                                                                                                                  | 个人其他肿瘤史:无                                                                                                    | 左、右附件，卵巢高级别浆液性癌                           | 女 | 原发 | 20S2128382   | 20S2128382   | tianhua_system_DX1890 | 肿瘤科       | NaN |\n",
       "| 不清楚               | 卵巢癌               | 阳性 | 9.5299999999999994 | MSS | 2021-01-01 | 2021-01 | 吴医生 | 复旦大学附属肿瘤医院             | 石蜡切片 | ⋯ | 放化疗史:脂质紫杉醇+洛铂8次（末次12.3）;靶向药物史:无;吸烟史:0                                                                                           | 祖父：肝癌;个人其他肿瘤史:无                                                                                         | 卵巢高级别浆液性癌                                       | 女 | 原发 | 20S11060803  | 20S11060803  | tianhua_system_DX1890 | 妇瘤         | NaN |\n",
       "| I                    | 卵巢癌               | 阳性 | -10.18             | MSS | 2020-12-26 | 2020-12 | 无     | 肿瘤线上商城                     | 石蜡切片 | ⋯ | 放化疗史:2020.3.8最后一次化疗;靶向药物史:无;吸烟史:0                                                                                                     | 奶奶妇科恶性肿瘤;个人其他肿瘤史:无                                                                                   | 卵巢癌粘液性                                             | 女 | 原发 | 20S8320831   | 20S8320831   | tianhua_system_DX1890 | 无           | NaN |\n",
       "| 不清楚               | 胰腺癌               | 阳性 | -27.38             | MSS | 2020-12-31 | 2020-12 | 万医生 | 株洲市中心医院                   | 石蜡切片 | ⋯ | 放化疗史:AG方案术前5程，术后1程;靶向药物史:无;吸烟史:0                                                                                                   | 无;个人其他肿瘤史:无                                                                                                 | 腺癌                                                     | 女 | 原发 | 20S8321320   | 20S8321320   | tianhua_system_DX1890 | 肝胆胰脾外科 | NaN |\n",
       "| II                   | 卵巢癌               | 阳性 | -28                | MSS | 2021-01-08 | 2021-01 | 王丹青 | 四川大学华西第二医院             | 石蜡切片 | ⋯ | 放化疗史:术后一次化疗;靶向药物史:无;吸烟史:0                                                                                                             | 母亲，卵巢癌，42岁发病;个人其他肿瘤史:无                                                                             | 高级别浆液性腺癌                                         | 女 | 原发 | 20S10085607  | 20S10085607  | tianhua_system_DX1890 | 妇瘤科       | NaN |\n",
       "| 不清楚               | 卵巢癌               | 阳性 | 27                 | MSS | 2021-01-06 | 2021-01 | 吴医生 | 复旦大学附属肿瘤医院             | 石蜡切片 | ⋯ | 放化疗史:白蛋白紫杉醇+卡铂3次，白蛋白紫杉醇+贝伐周疗3次（末次20年9月）;靶向药物史:奥拉帕利;吸烟史:0                                                      | 母亲胃癌，表妹乳腺癌，舅舅肝癌，外公胃癌;个人其他肿瘤史:无                                                           | 卵巢高级别浆液性癌                                       | 女 | 原发 | 20S11060799  | 20S11060799  | tianhua_system_DX1890 | 妇瘤         | NaN |\n",
       "| II                   | 卵巢癌               | 阳性 | 32.78              | MSS | 2021-01-02 | 2021-01 | 无     | 肿瘤线上商城                     | 石蜡切片 | ⋯ | 放化疗史:化疗6次;靶向药物史:无;吸烟史:0                                                                                                                  | 个人其他肿瘤史:无                                                                                                    | 高级别浆液性卵巢癌                                       | 女 | 原发 | 20S8320828   | 20S8320828   | tianhua_system_DX1890 | 无           | NaN |\n",
       "| II                   | 卵巢癌               | 阳性 | 5.72               | MSS | 2021-01-05 | 2021-01 | 无     | 肿瘤线上商城                     | 石蜡块   | ⋯ | 放化疗史:2012年12月24日开始化疗;靶向药物史:无;吸烟史:0                                                                                                   | 个人其他肿瘤史:无                                                                                                    | 透明型卵巢癌                                             | 女 | 原发 | 20S8321124   | 20S8321124   | tianhua_system_DX1890 | 无           | NaN |\n",
       "| III                  | 卵巢癌               | 阳性 | 38.85              | MSS | 2021-01-02 | 2021-01 | 无     | 肿瘤线上商城                     | 石蜡切片 | ⋯ | 放化疗史:2020-12-25化疗TC;靶向药物史:无;吸烟史:0                                                                                                         | 个人其他肿瘤史:无                                                                                                    | 高级别浆液性卵巢癌                                       | 女 | 转移 | 20S8321125   | 20S8321125   | tianhua_system_DX1890 | 无           | NaN |\n",
       "| I                    | 卵巢癌               | 阴性 | -22.57             | MSS | 2021-01-12 | 2021-01 | 无     | 肿瘤线上商城                     | 石蜡切片 | ⋯ | 放化疗史:无;靶向药物史:无;吸烟史:0                                                                                                                       | 个人其他肿瘤史:2017年卵巢癌1c期切除卵巢，2020年多处复发转移                                                          | 浆液性卵巢癌                                             | 女 | 转移 | 20S8321128   | 20S8321128   | tianhua_system_DX1890 | 无           | NaN |\n",
       "| III                  | 卵巢癌               | 阳性 | NaN                | MSS | 2021-01-23 | 2021-01 | 蒋医生 | 湖北省肿瘤医院                   | 石蜡切片 | ⋯ | 放化疗史:无;靶向药物史:无;吸烟史:0                                                                                                                       | NaN                                                                                                                  | 高浆                                                     | 女 | 原发 | 20S12418501  | 20S12418501  | tianhua_system_DX1890 | 妇瘤         | 无  |\n",
       "| IV;IV;IV             | 卵巢癌;卵巢癌;卵巢癌 | 阴性 | NaN                | MSS | 2021-01-28 | 2021-01 | -      | 北京易得好康科技有限公司         | 石蜡切片 | ⋯ | 放化疗史:-;靶向药物史:-;吸烟史:00;放化疗史:-;靶向药物史:-;吸烟史:00;放化疗史:-;靶向药物史:-;吸烟史:00                                                    | NaN                                                                                                                  | 卵巢癌;卵巢癌;卵巢癌                                     | 女 | 原发 | 20S12587524  | 20S12587524  | tianhua_system_DX1890 | -            | -   |\n",
       "| III                  | 卵巢癌               | 阳性 | NaN                | MSS | 2021-01-29 | 2021-01 | 无     | 肿瘤线上商城                     | 石蜡切片 | ⋯ | 放化疗史:术前新辅助化疗2次;靶向药物史:无;吸烟史:0                                                                                                        | NaN                                                                                                                  | 高浆型卵巢癌                                             | 女 | 原发 | 21S02755657  | 21S02755657  | tianhua_system_DX1890 | 无           | 无  |\n",
       "\n"
      ],
      "text/plain": [
       "   CANCER_STAGE         CANCER_TYPE          GENETIC_TEST_RESULT\n",
       "1  IV;IV;IV             卵巢癌;卵巢癌;卵巢癌 阳性               \n",
       "2  III;III;III          卵巢癌;卵巢癌;卵巢癌 阳性               \n",
       "3  不清楚;不清楚;不清楚 卵巢癌;卵巢癌;卵巢癌 阳性               \n",
       "4  III;III;III          卵巢癌;卵巢癌;卵巢癌 阳性               \n",
       "5  IV                   卵巢癌               阳性               \n",
       "6  I                    卵巢癌               阳性               \n",
       "7  IV                   卵巢癌               阳性               \n",
       "8  不清楚               卵巢癌               阳性               \n",
       "9  III                  卵巢癌               阳性               \n",
       "10 不清楚               卵巢癌               阳性               \n",
       "11 III                  卵巢癌               阳性               \n",
       "12 不清楚               卵巢癌               阳性               \n",
       "13 不清楚               卵巢癌               阴性               \n",
       "14 不清楚               卵巢癌               阳性               \n",
       "15 不清楚               卵巢癌               阳性               \n",
       "16 不清楚               卵巢癌               阳性               \n",
       "17 III                  卵巢癌               阳性               \n",
       "18 III                  卵巢癌               阳性               \n",
       "19 不清楚               卵巢癌               阳性               \n",
       "20 II                   卵巢癌               阳性               \n",
       "21 不清楚               卵巢癌               阴性               \n",
       "22 不清楚               卵巢癌               阳性               \n",
       "23 不清楚               卵巢癌               阳性               \n",
       "24 I                    卵巢癌               阳性               \n",
       "25 不清楚               胰腺癌               阳性               \n",
       "26 II                   卵巢癌               阳性               \n",
       "27 不清楚               卵巢癌               阳性               \n",
       "28 II                   卵巢癌               阳性               \n",
       "29 II                   卵巢癌               阳性               \n",
       "30 III                  卵巢癌               阳性               \n",
       "31 I                    卵巢癌               阴性               \n",
       "32 III                  卵巢癌               阳性               \n",
       "33 IV;IV;IV             卵巢癌;卵巢癌;卵巢癌 阴性               \n",
       "34 III                  卵巢癌               阳性               \n",
       "   HRD_SCORE          MSI_STATUS SAMPLE_COLLECTION_DATE SAMPLE_COLLECTION_MONTH\n",
       "1  -22.09             MSS        2020-07-15             2020-07                \n",
       "2  -28.96             MSS        2020-07-15             2020-07                \n",
       "3  31.3               MSS        2020-07-16             2020-07                \n",
       "4  59.91              MSS        2020-07-15             2020-07                \n",
       "5  44.9               MSS        2020-08-06             2020-08                \n",
       "6  12.62              MSS        2020-08-10             2020-08                \n",
       "7  17.64              MSS        2020-08-22             2020-08                \n",
       "8  -25.51             MSS        2020-11-19             2020-11                \n",
       "9  49.28              MSS        2020-11-26             2020-11                \n",
       "10 31.85              MSS        2020-11-27             2020-11                \n",
       "11 55.19              MSS        2020-12-04             2020-12                \n",
       "12 48.88              MSS        2020-12-03             2020-12                \n",
       "13 -29.18             MSS        2020-12-08             2020-12                \n",
       "14 57.12              MSS        2020-12-12             2020-12                \n",
       "15 62.47              MSS        2020-12-08             2020-12                \n",
       "16 5.52               MSS        2020-12-11             2020-12                \n",
       "17 23.03              MSS        2020-12-17             2020-12                \n",
       "18 19.57              MSS        2020-12-20             2020-12                \n",
       "19 25.76              MSS        2020-12-24             2020-12                \n",
       "20 33.97              MSS        2020-12-17             2020-12                \n",
       "21 44.89              MSS        2020-12-18             2020-12                \n",
       "22 34.39              MSS        2020-12-20             2020-12                \n",
       "23 9.5299999999999994 MSS        2021-01-01             2021-01                \n",
       "24 -10.18             MSS        2020-12-26             2020-12                \n",
       "25 -27.38             MSS        2020-12-31             2020-12                \n",
       "26 -28                MSS        2021-01-08             2021-01                \n",
       "27 27                 MSS        2021-01-06             2021-01                \n",
       "28 32.78              MSS        2021-01-02             2021-01                \n",
       "29 5.72               MSS        2021-01-05             2021-01                \n",
       "30 38.85              MSS        2021-01-02             2021-01                \n",
       "31 -22.57             MSS        2021-01-12             2021-01                \n",
       "32 NaN                MSS        2021-01-23             2021-01                \n",
       "33 NaN                MSS        2021-01-28             2021-01                \n",
       "34 NaN                MSS        2021-01-29             2021-01                \n",
       "   SAMPLE_SOURCE_DOCTOR SAMPLE_SOURCE_PATH               SAMPLE_TYPE_DETAILED ⋯\n",
       "1  王珂                 天津市肿瘤医院                   石蜡切片             ⋯\n",
       "2  李雷                 中国医学科学院北京协和医院       组织                 ⋯\n",
       "3  潘凌亚               中国医学科学院北京协和医院       石蜡切片             ⋯\n",
       "4  李雷                 中国医学科学院北京协和医院       组织                 ⋯\n",
       "5  无                   湖南省肿瘤医院                   石蜡切片             ⋯\n",
       "6  王辛                 四川大学华西医院                 石蜡切片             ⋯\n",
       "7  吴鸣                 中国医学科学院北京协和医院       石蜡切片             ⋯\n",
       "8  无                   肿瘤线上商城                     石蜡切片             ⋯\n",
       "9  无                   江西艾迪健康信息咨询服务有限公司 石蜡切片             ⋯\n",
       "10 夏医生               复旦大学附属肿瘤医院             石蜡切片             ⋯\n",
       "11 无                   肿瘤线上商城                     石蜡切片             ⋯\n",
       "12 温医生               复旦大学附属肿瘤医院             新鲜组织             ⋯\n",
       "13 温医生               复旦大学附属肿瘤医院             新鲜组织             ⋯\n",
       "14 温医生               复旦大学附属肿瘤医院             石蜡切片             ⋯\n",
       "15 催                   北京大学人民医院                 石蜡切片             ⋯\n",
       "16 吴鸣                 中国医学科学院北京协和医院       石蜡切片             ⋯\n",
       "17 张老师               天津市中心妇产科医院             石蜡切片             ⋯\n",
       "18 吴医生               复旦大学附属肿瘤医院             石蜡切片             ⋯\n",
       "19 温医生               复旦大学附属肿瘤医院             新鲜组织             ⋯\n",
       "20 崔教授               北京大学人民医院                 石蜡切片             ⋯\n",
       "21 刘医生               哈尔滨医科大学附属肿瘤医院       石蜡切片             ⋯\n",
       "22 李医生               哈尔滨医科大学附属第一医院       石蜡切片             ⋯\n",
       "23 吴医生               复旦大学附属肿瘤医院             石蜡切片             ⋯\n",
       "24 无                   肿瘤线上商城                     石蜡切片             ⋯\n",
       "25 万医生               株洲市中心医院                   石蜡切片             ⋯\n",
       "26 王丹青               四川大学华西第二医院             石蜡切片             ⋯\n",
       "27 吴医生               复旦大学附属肿瘤医院             石蜡切片             ⋯\n",
       "28 无                   肿瘤线上商城                     石蜡切片             ⋯\n",
       "29 无                   肿瘤线上商城                     石蜡块               ⋯\n",
       "30 无                   肿瘤线上商城                     石蜡切片             ⋯\n",
       "31 无                   肿瘤线上商城                     石蜡切片             ⋯\n",
       "32 蒋医生               湖北省肿瘤医院                   石蜡切片             ⋯\n",
       "33 -                    北京易得好康科技有限公司         石蜡切片             ⋯\n",
       "34 无                   肿瘤线上商城                     石蜡切片             ⋯\n",
       "   ALCOHOL_HISTORY                                                                                                                                         \n",
       "1  放化疗史:2020-7-1化疗;靶向药物史:贝伐单抗;吸烟史:0;放化疗史:2020-7-1化疗;靶向药物史:贝伐单抗;吸烟史:0;放化疗史:2020-7-1化疗;靶向药物史:贝伐单抗;吸烟史:0\n",
       "2  放化疗史:化疗三次;靶向药物史:无;吸烟史:0;放化疗史:化疗三次;靶向药物史:无;吸烟史:0;放化疗史:化疗三次;靶向药物史:无;吸烟史:0                              \n",
       "3  放化疗史:2009-20108次化疗;靶向药物史:无;吸烟史:0;放化疗史:2009-20108次化疗;靶向药物史:无;吸烟史:0;放化疗史:2009-20108次化疗;靶向药物史:无;吸烟史:0      \n",
       "4  放化疗史:术前三次术后六次;靶向药物史:无;吸烟史:0;放化疗史:术前三次术后六次;靶向药物史:无;吸烟史:0;放化疗史:术前三次术后六次;靶向药物史:无;吸烟史:0      \n",
       "5  放化疗史:无;靶向药物史:无;吸烟史:0                                                                                                                      \n",
       "6  放化疗史:TC两次;靶向药物史:无;吸烟史:0                                                                                                                  \n",
       "7  放化疗史:四次化疗;靶向药物史:贝伐两次;吸烟史:0                                                                                                          \n",
       "8  放化疗史:10.14最近一次化疗;靶向药物史:无;吸烟史:0                                                                                                       \n",
       "9  放化疗史:无;靶向药物史:无;吸烟史:0                                                                                                                      \n",
       "10 放化疗史:紫杉醇+卡铂4次;靶向药物史:无;吸烟史:0                                                                                                          \n",
       "11 放化疗史:化疗中，2020年11月4日紫杉醇+卡铂;靶向药物史:无;吸烟史:0                                                                                        \n",
       "12 放化疗史:无;靶向药物史:无;吸烟史:0                                                                                                                      \n",
       "13 放化疗史:周疗8次（末次11.6）;靶向药物史:无;吸烟史:0                                                                                                     \n",
       "14 放化疗史:周疗8次（末次11.6）;靶向药物史:无;吸烟史:0                                                                                                     \n",
       "15 放化疗史:无;靶向药物史:无;吸烟史:0                                                                                                                      \n",
       "16 放化疗史:9次化疗;靶向药物史:无;吸烟史:0                                                                                                                 \n",
       "17 放化疗史:化疗6期;靶向药物史:无;吸烟史:0                                                                                                                 \n",
       "18 放化疗史:紫杉醇+卡铂1次（末次11.30）;靶向药物史:无;吸烟史:0                                                                                             \n",
       "19 放化疗史:无;靶向药物史:无;吸烟史:0                                                                                                                      \n",
       "20 放化疗史:紫杉醇+卡铂/多柔比星;靶向药物史:无;吸烟史:0                                                                                                    \n",
       "21 放化疗史:化疗9次;靶向药物史:无;吸烟史:0                                                                                                                 \n",
       "22 放化疗史:6次化疗;靶向药物史:无;吸烟史:0                                                                                                                 \n",
       "23 放化疗史:脂质紫杉醇+洛铂8次（末次12.3）;靶向药物史:无;吸烟史:0                                                                                          \n",
       "24 放化疗史:2020.3.8最后一次化疗;靶向药物史:无;吸烟史:0                                                                                                    \n",
       "25 放化疗史:AG方案术前5程，术后1程;靶向药物史:无;吸烟史:0                                                                                                  \n",
       "26 放化疗史:术后一次化疗;靶向药物史:无;吸烟史:0                                                                                                            \n",
       "27 放化疗史:白蛋白紫杉醇+卡铂3次，白蛋白紫杉醇+贝伐周疗3次（末次20年9月）;靶向药物史:奥拉帕利;吸烟史:0                                                     \n",
       "28 放化疗史:化疗6次;靶向药物史:无;吸烟史:0                                                                                                                 \n",
       "29 放化疗史:2012年12月24日开始化疗;靶向药物史:无;吸烟史:0                                                                                                  \n",
       "30 放化疗史:2020-12-25化疗TC;靶向药物史:无;吸烟史:0                                                                                                        \n",
       "31 放化疗史:无;靶向药物史:无;吸烟史:0                                                                                                                      \n",
       "32 放化疗史:无;靶向药物史:无;吸烟史:0                                                                                                                      \n",
       "33 放化疗史:-;靶向药物史:-;吸烟史:00;放化疗史:-;靶向药物史:-;吸烟史:00;放化疗史:-;靶向药物史:-;吸烟史:00                                                   \n",
       "34 放化疗史:术前新辅助化疗2次;靶向药物史:无;吸烟史:0                                                                                                       \n",
       "   FAMILY_HISTORY_OF_CANCER                                                                                            \n",
       "1  姐姐1肺癌，姐姐2乳腺癌;姐姐1肺癌，姐姐2乳腺癌;姐姐1肺癌，姐姐2乳腺癌                                                \n",
       "2  母亲鼻咽癌83年去世;个人其他肿瘤史:不详;母亲鼻咽癌83年去世;个人其他肿瘤史:不详;母亲鼻咽癌83年去世;个人其他肿瘤史:不详\n",
       "3  妈妈妇科疾病，姨娘妇科疾病;妈妈妇科疾病，姨娘妇科疾病;妈妈妇科疾病，姨娘妇科疾病                                    \n",
       "4  无;无;无                                                                                                            \n",
       "5  无;个人其他肿瘤史:无                                                                                                \n",
       "6  父亲，肺癌71岁;个人其他肿瘤史:无                                                                                    \n",
       "7  无;个人其他肿瘤史:无                                                                                                \n",
       "8  个人其他肿瘤史:无                                                                                                   \n",
       "9  个人其他肿瘤史:无                                                                                                   \n",
       "10 无;个人其他肿瘤史:无                                                                                                \n",
       "11 患者父亲结肠癌;个人其他肿瘤史:无                                                                                    \n",
       "12 无;个人其他肿瘤史:无                                                                                                \n",
       "13 哥哥：前列腺癌（70+）;个人其他肿瘤史:无                                                                             \n",
       "14 哥哥：前列腺癌（70+）;个人其他肿瘤史:无                                                                             \n",
       "15 姨卵巢癌;个人其他肿瘤史:无                                                                                          \n",
       "16 无;个人其他肿瘤史:无                                                                                                \n",
       "17 妈妈子宫肿瘤，二姨乳腺癌，姨姥姥直肠癌;个人其他肿瘤史:无                                                            \n",
       "18 父亲：肠癌（62）；表哥：胰腺癌（50+）;个人其他肿瘤史:无                                                             \n",
       "19 父亲：多发性骨髓瘤（58）;个人其他肿瘤史:无                                                                          \n",
       "20 个人其他肿瘤史:无                                                                                                   \n",
       "21 个人其他肿瘤史:无                                                                                                   \n",
       "22 个人其他肿瘤史:无                                                                                                   \n",
       "23 祖父：肝癌;个人其他肿瘤史:无                                                                                        \n",
       "24 奶奶妇科恶性肿瘤;个人其他肿瘤史:无                                                                                  \n",
       "25 无;个人其他肿瘤史:无                                                                                                \n",
       "26 母亲，卵巢癌，42岁发病;个人其他肿瘤史:无                                                                            \n",
       "27 母亲胃癌，表妹乳腺癌，舅舅肝癌，外公胃癌;个人其他肿瘤史:无                                                          \n",
       "28 个人其他肿瘤史:无                                                                                                   \n",
       "29 个人其他肿瘤史:无                                                                                                   \n",
       "30 个人其他肿瘤史:无                                                                                                   \n",
       "31 个人其他肿瘤史:2017年卵巢癌1c期切除卵巢，2020年多处复发转移                                                         \n",
       "32 NaN                                                                                                                 \n",
       "33 NaN                                                                                                                 \n",
       "34 NaN                                                                                                                 \n",
       "   PATHOLOGICAL_DIAGNOSIS                                   SEX\n",
       "1  卵巢高级别浆液性癌;卵巢高级别浆液性癌;卵巢高级别浆液性癌 女 \n",
       "2  低级别浆液性卵巢癌;低级别浆液性卵巢癌;低级别浆液性卵巢癌 女 \n",
       "3  高级浆液型;高级浆液型;高级浆液型                         女 \n",
       "4  高级别浆液性卵巢癌;高级别浆液性卵巢癌;高级别浆液性卵巢癌 女 \n",
       "5  卵巢腺癌                                                 女 \n",
       "6  透明细胞癌                                               女 \n",
       "7  卵巢癌                                                   女 \n",
       "8  卵巢癌                                                   女 \n",
       "9  原发                                                     女 \n",
       "10 卵巢癌                                                   女 \n",
       "11 高级别浆液性卵巢癌                                       女 \n",
       "12 卵巢癌                                                   女 \n",
       "13 卵巢高级别浆液性癌                                       女 \n",
       "14 卵巢高级别浆液性癌                                       女 \n",
       "15 卵巢癌                                                   女 \n",
       "16 卵巢透明细胞癌                                           女 \n",
       "17 高级别浆液性卵巢癌                                       女 \n",
       "18 卵巢高级别浆液性癌                                       女 \n",
       "19 卵巢癌                                                   女 \n",
       "20 卵巢癌                                                   女 \n",
       "21 左、右卵巢，低级别浆液性腺癌                             女 \n",
       "22 左、右附件，卵巢高级别浆液性癌                           女 \n",
       "23 卵巢高级别浆液性癌                                       女 \n",
       "24 卵巢癌粘液性                                             女 \n",
       "25 腺癌                                                     女 \n",
       "26 高级别浆液性腺癌                                         女 \n",
       "27 卵巢高级别浆液性癌                                       女 \n",
       "28 高级别浆液性卵巢癌                                       女 \n",
       "29 透明型卵巢癌                                             女 \n",
       "30 高级别浆液性卵巢癌                                       女 \n",
       "31 浆液性卵巢癌                                             女 \n",
       "32 高浆                                                     女 \n",
       "33 卵巢癌;卵巢癌;卵巢癌                                     女 \n",
       "34 高浆型卵巢癌                                             女 \n",
       "   TUMOR_METASTASIS_STATUS patientId    Tumor_Sample_Barcode\n",
       "1  原发                    19S3185741   19S3185741          \n",
       "2  原发                    20S2123870   20S2123870          \n",
       "3  原发                    20S2123920   20S2123920          \n",
       "4  原发                    20S2123924   20S2123924          \n",
       "5  原发                    19S3200601   19S3200601          \n",
       "6  原发                    20S2449702   20S2449702          \n",
       "7  原发                    20S2123955   20S2123955          \n",
       "8  原发                    20S8320973   20S8320973          \n",
       "9  原发                    20S10084701  20S10084701         \n",
       "10 原发                    20S11060832  20S11060832         \n",
       "11 原发                    20S8321155R  20S8321155R         \n",
       "12 原发                    20S11060826  20S11060826         \n",
       "13 原发                    20S11060827  20S11060827         \n",
       "14 原发                    20S11060827R 20S11060827R        \n",
       "15 原发                    20S12417159  20S12417159         \n",
       "16 原发                    20S12588855  20S12588855         \n",
       "17 原发                    19S3199300   19S3199300          \n",
       "18 原发                    20S11060805  20S11060805         \n",
       "19 原发                    20S11060808  20S11060808         \n",
       "20 原发                    20S12417155  20S12417155         \n",
       "21 原发                    20S2128379   20S2128379          \n",
       "22 原发                    20S2128382   20S2128382          \n",
       "23 原发                    20S11060803  20S11060803         \n",
       "24 原发                    20S8320831   20S8320831          \n",
       "25 原发                    20S8321320   20S8321320          \n",
       "26 原发                    20S10085607  20S10085607         \n",
       "27 原发                    20S11060799  20S11060799         \n",
       "28 原发                    20S8320828   20S8320828          \n",
       "29 原发                    20S8321124   20S8321124          \n",
       "30 转移                    20S8321125   20S8321125          \n",
       "31 转移                    20S8321128   20S8321128          \n",
       "32 原发                    20S12418501  20S12418501         \n",
       "33 原发                    20S12587524  20S12587524         \n",
       "34 原发                    21S02755657  21S02755657         \n",
       "   studyId               HOSPITAL_DEPARTMENT PERSONAL_HISTORY\n",
       "1  tianhua_system_DX1890 NaN                 NaN             \n",
       "2  tianhua_system_DX1890 妇科                NaN             \n",
       "3  tianhua_system_DX1890 NaN                 NaN             \n",
       "4  tianhua_system_DX1890 NaN                 NaN             \n",
       "5  tianhua_system_DX1890 妇瘤科              NaN             \n",
       "6  tianhua_system_DX1890 肿瘤科              NaN             \n",
       "7  tianhua_system_DX1890 妇瘤科              NaN             \n",
       "8  tianhua_system_DX1890 无                  NaN             \n",
       "9  tianhua_system_DX1890 无                  NaN             \n",
       "10 tianhua_system_DX1890 妇瘤                NaN             \n",
       "11 tianhua_system_DX1890 无                  NaN             \n",
       "12 tianhua_system_DX1890 妇瘤                NaN             \n",
       "13 tianhua_system_DX1890 妇瘤                NaN             \n",
       "14 tianhua_system_DX1890 妇瘤                NaN             \n",
       "15 tianhua_system_DX1890 妇科肿瘤            NaN             \n",
       "16 tianhua_system_DX1890 妇科                NaN             \n",
       "17 tianhua_system_DX1890 妇瘤科              NaN             \n",
       "18 tianhua_system_DX1890 妇瘤                NaN             \n",
       "19 tianhua_system_DX1890 妇瘤                NaN             \n",
       "20 tianhua_system_DX1890 妇科肿瘤            NaN             \n",
       "21 tianhua_system_DX1890 肿瘤科              NaN             \n",
       "22 tianhua_system_DX1890 肿瘤科              NaN             \n",
       "23 tianhua_system_DX1890 妇瘤                NaN             \n",
       "24 tianhua_system_DX1890 无                  NaN             \n",
       "25 tianhua_system_DX1890 肝胆胰脾外科        NaN             \n",
       "26 tianhua_system_DX1890 妇瘤科              NaN             \n",
       "27 tianhua_system_DX1890 妇瘤                NaN             \n",
       "28 tianhua_system_DX1890 无                  NaN             \n",
       "29 tianhua_system_DX1890 无                  NaN             \n",
       "30 tianhua_system_DX1890 无                  NaN             \n",
       "31 tianhua_system_DX1890 无                  NaN             \n",
       "32 tianhua_system_DX1890 妇瘤                无              \n",
       "33 tianhua_system_DX1890 -                   -               \n",
       "34 tianhua_system_DX1890 无                  无              "
      ]
     },
     "metadata": {},
     "output_type": "display_data"
    }
   ],
   "source": [
    "tryCatch({\n",
    "     #shows clinical data associated with samples.\n",
    "    getClinicalData(laml)\n",
    " },error=function(e){\n",
    "     print(e)\n",
    " } )"
   ]
  },
  {
   "cell_type": "markdown",
   "metadata": {
    "tags": [
     "output"
    ]
   },
   "source": [
    "## 样本级别变异分布 "
   ]
  },
  {
   "cell_type": "code",
   "execution_count": 103,
   "metadata": {
    "tags": [
     "output"
    ]
   },
   "outputs": [
    {
     "data": {
      "text/html": [
       "<table>\n",
       "<caption>A data.table: 34 × 9</caption>\n",
       "<thead>\n",
       "\t<tr><th scope=col>Tumor_Sample_Barcode</th><th scope=col>Frame_Shift_Del</th><th scope=col>Frame_Shift_Ins</th><th scope=col>In_Frame_Del</th><th scope=col>In_Frame_Ins</th><th scope=col>Missense_Mutation</th><th scope=col>Nonsense_Mutation</th><th scope=col>Splice_Site</th><th scope=col>total</th></tr>\n",
       "\t<tr><th scope=col>&lt;fct&gt;</th><th scope=col>&lt;int&gt;</th><th scope=col>&lt;int&gt;</th><th scope=col>&lt;int&gt;</th><th scope=col>&lt;int&gt;</th><th scope=col>&lt;int&gt;</th><th scope=col>&lt;int&gt;</th><th scope=col>&lt;int&gt;</th><th scope=col>&lt;dbl&gt;</th></tr>\n",
       "</thead>\n",
       "<tbody>\n",
       "\t<tr><td>20S2128382  </td><td>0</td><td>1</td><td> 2</td><td>0</td><td>35</td><td>2</td><td>1</td><td>41</td></tr>\n",
       "\t<tr><td>19S3200601  </td><td>0</td><td>0</td><td>12</td><td>0</td><td>23</td><td>0</td><td>1</td><td>36</td></tr>\n",
       "\t<tr><td>20S10084701 </td><td>0</td><td>1</td><td> 3</td><td>0</td><td>18</td><td>1</td><td>2</td><td>25</td></tr>\n",
       "\t<tr><td>20S11060808 </td><td>3</td><td>0</td><td> 3</td><td>0</td><td>16</td><td>0</td><td>2</td><td>24</td></tr>\n",
       "\t<tr><td>20S11060826 </td><td>0</td><td>0</td><td> 1</td><td>0</td><td>18</td><td>0</td><td>1</td><td>20</td></tr>\n",
       "\t<tr><td>20S8320828  </td><td>0</td><td>0</td><td> 0</td><td>0</td><td>17</td><td>3</td><td>0</td><td>20</td></tr>\n",
       "\t<tr><td>20S11060799 </td><td>0</td><td>0</td><td> 0</td><td>1</td><td>16</td><td>1</td><td>0</td><td>18</td></tr>\n",
       "\t<tr><td>20S11060805 </td><td>0</td><td>0</td><td> 1</td><td>0</td><td>16</td><td>0</td><td>1</td><td>18</td></tr>\n",
       "\t<tr><td>20S12417159 </td><td>1</td><td>1</td><td> 0</td><td>0</td><td>13</td><td>1</td><td>2</td><td>18</td></tr>\n",
       "\t<tr><td>20S8321320  </td><td>1</td><td>1</td><td> 2</td><td>0</td><td>13</td><td>1</td><td>0</td><td>18</td></tr>\n",
       "\t<tr><td>20S11060827R</td><td>1</td><td>0</td><td> 1</td><td>0</td><td> 9</td><td>3</td><td>1</td><td>15</td></tr>\n",
       "\t<tr><td>20S2123924  </td><td>1</td><td>0</td><td> 0</td><td>0</td><td>14</td><td>0</td><td>0</td><td>15</td></tr>\n",
       "\t<tr><td>20S8320831  </td><td>2</td><td>0</td><td> 0</td><td>0</td><td>12</td><td>1</td><td>0</td><td>15</td></tr>\n",
       "\t<tr><td>20S8321155R </td><td>2</td><td>0</td><td> 0</td><td>0</td><td>11</td><td>0</td><td>2</td><td>15</td></tr>\n",
       "\t<tr><td>20S11060832 </td><td>0</td><td>0</td><td> 1</td><td>0</td><td>12</td><td>0</td><td>1</td><td>14</td></tr>\n",
       "\t<tr><td>20S2449702  </td><td>1</td><td>0</td><td> 0</td><td>0</td><td>10</td><td>1</td><td>1</td><td>13</td></tr>\n",
       "\t<tr><td>20S8321124  </td><td>1</td><td>0</td><td> 2</td><td>0</td><td>10</td><td>0</td><td>0</td><td>13</td></tr>\n",
       "\t<tr><td>19S3185741  </td><td>2</td><td>1</td><td> 0</td><td>0</td><td> 7</td><td>1</td><td>0</td><td>11</td></tr>\n",
       "\t<tr><td>20S2128379  </td><td>1</td><td>0</td><td> 0</td><td>0</td><td>10</td><td>0</td><td>0</td><td>11</td></tr>\n",
       "\t<tr><td>20S12587524 </td><td>1</td><td>0</td><td> 0</td><td>0</td><td> 7</td><td>1</td><td>1</td><td>10</td></tr>\n",
       "\t<tr><td>20S11060803 </td><td>0</td><td>0</td><td> 0</td><td>0</td><td> 8</td><td>0</td><td>1</td><td> 9</td></tr>\n",
       "\t<tr><td>20S12588855 </td><td>2</td><td>0</td><td> 1</td><td>0</td><td> 6</td><td>0</td><td>0</td><td> 9</td></tr>\n",
       "\t<tr><td>20S12417155 </td><td>1</td><td>0</td><td> 0</td><td>0</td><td> 7</td><td>0</td><td>0</td><td> 8</td></tr>\n",
       "\t<tr><td>20S2123955  </td><td>1</td><td>0</td><td> 0</td><td>0</td><td> 5</td><td>1</td><td>1</td><td> 8</td></tr>\n",
       "\t<tr><td>20S10085607 </td><td>0</td><td>0</td><td> 2</td><td>1</td><td> 4</td><td>0</td><td>0</td><td> 7</td></tr>\n",
       "\t<tr><td>20S11060827 </td><td>2</td><td>0</td><td> 4</td><td>0</td><td> 1</td><td>0</td><td>0</td><td> 7</td></tr>\n",
       "\t<tr><td>20S8321125  </td><td>0</td><td>0</td><td> 1</td><td>0</td><td> 5</td><td>1</td><td>0</td><td> 7</td></tr>\n",
       "\t<tr><td>21S02755657 </td><td>0</td><td>0</td><td> 1</td><td>0</td><td> 5</td><td>1</td><td>0</td><td> 7</td></tr>\n",
       "\t<tr><td>19S3199300  </td><td>1</td><td>0</td><td> 0</td><td>0</td><td> 5</td><td>0</td><td>0</td><td> 6</td></tr>\n",
       "\t<tr><td>20S2123920  </td><td>0</td><td>0</td><td> 0</td><td>0</td><td> 4</td><td>1</td><td>0</td><td> 5</td></tr>\n",
       "\t<tr><td>20S2123870  </td><td>1</td><td>0</td><td> 0</td><td>0</td><td> 2</td><td>1</td><td>0</td><td> 4</td></tr>\n",
       "\t<tr><td>20S12418501 </td><td>0</td><td>0</td><td> 0</td><td>0</td><td> 2</td><td>0</td><td>1</td><td> 3</td></tr>\n",
       "\t<tr><td>20S8321128  </td><td>0</td><td>0</td><td> 0</td><td>0</td><td> 2</td><td>0</td><td>0</td><td> 2</td></tr>\n",
       "\t<tr><td>20S8320973  </td><td>1</td><td>0</td><td> 0</td><td>0</td><td> 0</td><td>0</td><td>0</td><td> 1</td></tr>\n",
       "</tbody>\n",
       "</table>\n"
      ],
      "text/latex": [
       "A data.table: 34 × 9\n",
       "\\begin{tabular}{lllllllll}\n",
       " Tumor\\_Sample\\_Barcode & Frame\\_Shift\\_Del & Frame\\_Shift\\_Ins & In\\_Frame\\_Del & In\\_Frame\\_Ins & Missense\\_Mutation & Nonsense\\_Mutation & Splice\\_Site & total\\\\\n",
       " <fct> & <int> & <int> & <int> & <int> & <int> & <int> & <int> & <dbl>\\\\\n",
       "\\hline\n",
       "\t 20S2128382   & 0 & 1 &  2 & 0 & 35 & 2 & 1 & 41\\\\\n",
       "\t 19S3200601   & 0 & 0 & 12 & 0 & 23 & 0 & 1 & 36\\\\\n",
       "\t 20S10084701  & 0 & 1 &  3 & 0 & 18 & 1 & 2 & 25\\\\\n",
       "\t 20S11060808  & 3 & 0 &  3 & 0 & 16 & 0 & 2 & 24\\\\\n",
       "\t 20S11060826  & 0 & 0 &  1 & 0 & 18 & 0 & 1 & 20\\\\\n",
       "\t 20S8320828   & 0 & 0 &  0 & 0 & 17 & 3 & 0 & 20\\\\\n",
       "\t 20S11060799  & 0 & 0 &  0 & 1 & 16 & 1 & 0 & 18\\\\\n",
       "\t 20S11060805  & 0 & 0 &  1 & 0 & 16 & 0 & 1 & 18\\\\\n",
       "\t 20S12417159  & 1 & 1 &  0 & 0 & 13 & 1 & 2 & 18\\\\\n",
       "\t 20S8321320   & 1 & 1 &  2 & 0 & 13 & 1 & 0 & 18\\\\\n",
       "\t 20S11060827R & 1 & 0 &  1 & 0 &  9 & 3 & 1 & 15\\\\\n",
       "\t 20S2123924   & 1 & 0 &  0 & 0 & 14 & 0 & 0 & 15\\\\\n",
       "\t 20S8320831   & 2 & 0 &  0 & 0 & 12 & 1 & 0 & 15\\\\\n",
       "\t 20S8321155R  & 2 & 0 &  0 & 0 & 11 & 0 & 2 & 15\\\\\n",
       "\t 20S11060832  & 0 & 0 &  1 & 0 & 12 & 0 & 1 & 14\\\\\n",
       "\t 20S2449702   & 1 & 0 &  0 & 0 & 10 & 1 & 1 & 13\\\\\n",
       "\t 20S8321124   & 1 & 0 &  2 & 0 & 10 & 0 & 0 & 13\\\\\n",
       "\t 19S3185741   & 2 & 1 &  0 & 0 &  7 & 1 & 0 & 11\\\\\n",
       "\t 20S2128379   & 1 & 0 &  0 & 0 & 10 & 0 & 0 & 11\\\\\n",
       "\t 20S12587524  & 1 & 0 &  0 & 0 &  7 & 1 & 1 & 10\\\\\n",
       "\t 20S11060803  & 0 & 0 &  0 & 0 &  8 & 0 & 1 &  9\\\\\n",
       "\t 20S12588855  & 2 & 0 &  1 & 0 &  6 & 0 & 0 &  9\\\\\n",
       "\t 20S12417155  & 1 & 0 &  0 & 0 &  7 & 0 & 0 &  8\\\\\n",
       "\t 20S2123955   & 1 & 0 &  0 & 0 &  5 & 1 & 1 &  8\\\\\n",
       "\t 20S10085607  & 0 & 0 &  2 & 1 &  4 & 0 & 0 &  7\\\\\n",
       "\t 20S11060827  & 2 & 0 &  4 & 0 &  1 & 0 & 0 &  7\\\\\n",
       "\t 20S8321125   & 0 & 0 &  1 & 0 &  5 & 1 & 0 &  7\\\\\n",
       "\t 21S02755657  & 0 & 0 &  1 & 0 &  5 & 1 & 0 &  7\\\\\n",
       "\t 19S3199300   & 1 & 0 &  0 & 0 &  5 & 0 & 0 &  6\\\\\n",
       "\t 20S2123920   & 0 & 0 &  0 & 0 &  4 & 1 & 0 &  5\\\\\n",
       "\t 20S2123870   & 1 & 0 &  0 & 0 &  2 & 1 & 0 &  4\\\\\n",
       "\t 20S12418501  & 0 & 0 &  0 & 0 &  2 & 0 & 1 &  3\\\\\n",
       "\t 20S8321128   & 0 & 0 &  0 & 0 &  2 & 0 & 0 &  2\\\\\n",
       "\t 20S8320973   & 1 & 0 &  0 & 0 &  0 & 0 & 0 &  1\\\\\n",
       "\\end{tabular}\n"
      ],
      "text/markdown": [
       "\n",
       "A data.table: 34 × 9\n",
       "\n",
       "| Tumor_Sample_Barcode &lt;fct&gt; | Frame_Shift_Del &lt;int&gt; | Frame_Shift_Ins &lt;int&gt; | In_Frame_Del &lt;int&gt; | In_Frame_Ins &lt;int&gt; | Missense_Mutation &lt;int&gt; | Nonsense_Mutation &lt;int&gt; | Splice_Site &lt;int&gt; | total &lt;dbl&gt; |\n",
       "|---|---|---|---|---|---|---|---|---|\n",
       "| 20S2128382   | 0 | 1 |  2 | 0 | 35 | 2 | 1 | 41 |\n",
       "| 19S3200601   | 0 | 0 | 12 | 0 | 23 | 0 | 1 | 36 |\n",
       "| 20S10084701  | 0 | 1 |  3 | 0 | 18 | 1 | 2 | 25 |\n",
       "| 20S11060808  | 3 | 0 |  3 | 0 | 16 | 0 | 2 | 24 |\n",
       "| 20S11060826  | 0 | 0 |  1 | 0 | 18 | 0 | 1 | 20 |\n",
       "| 20S8320828   | 0 | 0 |  0 | 0 | 17 | 3 | 0 | 20 |\n",
       "| 20S11060799  | 0 | 0 |  0 | 1 | 16 | 1 | 0 | 18 |\n",
       "| 20S11060805  | 0 | 0 |  1 | 0 | 16 | 0 | 1 | 18 |\n",
       "| 20S12417159  | 1 | 1 |  0 | 0 | 13 | 1 | 2 | 18 |\n",
       "| 20S8321320   | 1 | 1 |  2 | 0 | 13 | 1 | 0 | 18 |\n",
       "| 20S11060827R | 1 | 0 |  1 | 0 |  9 | 3 | 1 | 15 |\n",
       "| 20S2123924   | 1 | 0 |  0 | 0 | 14 | 0 | 0 | 15 |\n",
       "| 20S8320831   | 2 | 0 |  0 | 0 | 12 | 1 | 0 | 15 |\n",
       "| 20S8321155R  | 2 | 0 |  0 | 0 | 11 | 0 | 2 | 15 |\n",
       "| 20S11060832  | 0 | 0 |  1 | 0 | 12 | 0 | 1 | 14 |\n",
       "| 20S2449702   | 1 | 0 |  0 | 0 | 10 | 1 | 1 | 13 |\n",
       "| 20S8321124   | 1 | 0 |  2 | 0 | 10 | 0 | 0 | 13 |\n",
       "| 19S3185741   | 2 | 1 |  0 | 0 |  7 | 1 | 0 | 11 |\n",
       "| 20S2128379   | 1 | 0 |  0 | 0 | 10 | 0 | 0 | 11 |\n",
       "| 20S12587524  | 1 | 0 |  0 | 0 |  7 | 1 | 1 | 10 |\n",
       "| 20S11060803  | 0 | 0 |  0 | 0 |  8 | 0 | 1 |  9 |\n",
       "| 20S12588855  | 2 | 0 |  1 | 0 |  6 | 0 | 0 |  9 |\n",
       "| 20S12417155  | 1 | 0 |  0 | 0 |  7 | 0 | 0 |  8 |\n",
       "| 20S2123955   | 1 | 0 |  0 | 0 |  5 | 1 | 1 |  8 |\n",
       "| 20S10085607  | 0 | 0 |  2 | 1 |  4 | 0 | 0 |  7 |\n",
       "| 20S11060827  | 2 | 0 |  4 | 0 |  1 | 0 | 0 |  7 |\n",
       "| 20S8321125   | 0 | 0 |  1 | 0 |  5 | 1 | 0 |  7 |\n",
       "| 21S02755657  | 0 | 0 |  1 | 0 |  5 | 1 | 0 |  7 |\n",
       "| 19S3199300   | 1 | 0 |  0 | 0 |  5 | 0 | 0 |  6 |\n",
       "| 20S2123920   | 0 | 0 |  0 | 0 |  4 | 1 | 0 |  5 |\n",
       "| 20S2123870   | 1 | 0 |  0 | 0 |  2 | 1 | 0 |  4 |\n",
       "| 20S12418501  | 0 | 0 |  0 | 0 |  2 | 0 | 1 |  3 |\n",
       "| 20S8321128   | 0 | 0 |  0 | 0 |  2 | 0 | 0 |  2 |\n",
       "| 20S8320973   | 1 | 0 |  0 | 0 |  0 | 0 | 0 |  1 |\n",
       "\n"
      ],
      "text/plain": [
       "   Tumor_Sample_Barcode Frame_Shift_Del Frame_Shift_Ins In_Frame_Del\n",
       "1  20S2128382           0               1                2          \n",
       "2  19S3200601           0               0               12          \n",
       "3  20S10084701          0               1                3          \n",
       "4  20S11060808          3               0                3          \n",
       "5  20S11060826          0               0                1          \n",
       "6  20S8320828           0               0                0          \n",
       "7  20S11060799          0               0                0          \n",
       "8  20S11060805          0               0                1          \n",
       "9  20S12417159          1               1                0          \n",
       "10 20S8321320           1               1                2          \n",
       "11 20S11060827R         1               0                1          \n",
       "12 20S2123924           1               0                0          \n",
       "13 20S8320831           2               0                0          \n",
       "14 20S8321155R          2               0                0          \n",
       "15 20S11060832          0               0                1          \n",
       "16 20S2449702           1               0                0          \n",
       "17 20S8321124           1               0                2          \n",
       "18 19S3185741           2               1                0          \n",
       "19 20S2128379           1               0                0          \n",
       "20 20S12587524          1               0                0          \n",
       "21 20S11060803          0               0                0          \n",
       "22 20S12588855          2               0                1          \n",
       "23 20S12417155          1               0                0          \n",
       "24 20S2123955           1               0                0          \n",
       "25 20S10085607          0               0                2          \n",
       "26 20S11060827          2               0                4          \n",
       "27 20S8321125           0               0                1          \n",
       "28 21S02755657          0               0                1          \n",
       "29 19S3199300           1               0                0          \n",
       "30 20S2123920           0               0                0          \n",
       "31 20S2123870           1               0                0          \n",
       "32 20S12418501          0               0                0          \n",
       "33 20S8321128           0               0                0          \n",
       "34 20S8320973           1               0                0          \n",
       "   In_Frame_Ins Missense_Mutation Nonsense_Mutation Splice_Site total\n",
       "1  0            35                2                 1           41   \n",
       "2  0            23                0                 1           36   \n",
       "3  0            18                1                 2           25   \n",
       "4  0            16                0                 2           24   \n",
       "5  0            18                0                 1           20   \n",
       "6  0            17                3                 0           20   \n",
       "7  1            16                1                 0           18   \n",
       "8  0            16                0                 1           18   \n",
       "9  0            13                1                 2           18   \n",
       "10 0            13                1                 0           18   \n",
       "11 0             9                3                 1           15   \n",
       "12 0            14                0                 0           15   \n",
       "13 0            12                1                 0           15   \n",
       "14 0            11                0                 2           15   \n",
       "15 0            12                0                 1           14   \n",
       "16 0            10                1                 1           13   \n",
       "17 0            10                0                 0           13   \n",
       "18 0             7                1                 0           11   \n",
       "19 0            10                0                 0           11   \n",
       "20 0             7                1                 1           10   \n",
       "21 0             8                0                 1            9   \n",
       "22 0             6                0                 0            9   \n",
       "23 0             7                0                 0            8   \n",
       "24 0             5                1                 1            8   \n",
       "25 1             4                0                 0            7   \n",
       "26 0             1                0                 0            7   \n",
       "27 0             5                1                 0            7   \n",
       "28 0             5                1                 0            7   \n",
       "29 0             5                0                 0            6   \n",
       "30 0             4                1                 0            5   \n",
       "31 0             2                1                 0            4   \n",
       "32 0             2                0                 1            3   \n",
       "33 0             2                0                 0            2   \n",
       "34 0             0                0                 0            1   "
      ]
     },
     "metadata": {},
     "output_type": "display_data"
    }
   ],
   "source": [
    "tryCatch({\n",
    "     #Shows sample summry.\n",
    "    getSampleSummary(laml)\n",
    " },error=function(e){\n",
    "     print(e)\n",
    " } )"
   ]
  },
  {
   "cell_type": "markdown",
   "metadata": {
    "tags": [
     "output"
    ]
   },
   "source": [
    "## 基因水平变异分布"
   ]
  },
  {
   "cell_type": "code",
   "execution_count": 22,
   "metadata": {
    "tags": [
     "output"
    ]
   },
   "outputs": [
    {
     "data": {
      "text/html": [
       "<table>\n",
       "<caption>A data.table: 239 × 11</caption>\n",
       "<thead>\n",
       "\t<tr><th scope=col>Hugo_Symbol</th><th scope=col>Frame_Shift_Del</th><th scope=col>Frame_Shift_Ins</th><th scope=col>In_Frame_Del</th><th scope=col>In_Frame_Ins</th><th scope=col>Missense_Mutation</th><th scope=col>Nonsense_Mutation</th><th scope=col>Splice_Site</th><th scope=col>total</th><th scope=col>MutatedSamples</th><th scope=col>AlteredSamples</th></tr>\n",
       "\t<tr><th scope=col>&lt;chr&gt;</th><th scope=col>&lt;int&gt;</th><th scope=col>&lt;int&gt;</th><th scope=col>&lt;int&gt;</th><th scope=col>&lt;int&gt;</th><th scope=col>&lt;int&gt;</th><th scope=col>&lt;int&gt;</th><th scope=col>&lt;int&gt;</th><th scope=col>&lt;dbl&gt;</th><th scope=col>&lt;int&gt;</th><th scope=col>&lt;int&gt;</th></tr>\n",
       "</thead>\n",
       "<tbody>\n",
       "\t<tr><td>TP53    </td><td>5</td><td>1</td><td>0</td><td>0</td><td>15</td><td>2</td><td>3</td><td>26</td><td>25</td><td>25</td></tr>\n",
       "\t<tr><td>MUC16   </td><td>0</td><td>0</td><td>1</td><td>0</td><td> 8</td><td>0</td><td>0</td><td> 9</td><td> 7</td><td> 7</td></tr>\n",
       "\t<tr><td>ARID1A  </td><td>3</td><td>0</td><td>2</td><td>0</td><td> 1</td><td>0</td><td>0</td><td> 6</td><td> 6</td><td> 6</td></tr>\n",
       "\t<tr><td>KIAA1549</td><td>0</td><td>0</td><td>2</td><td>0</td><td> 4</td><td>0</td><td>0</td><td> 6</td><td> 6</td><td> 6</td></tr>\n",
       "\t<tr><td>FAT4    </td><td>0</td><td>0</td><td>0</td><td>0</td><td> 6</td><td>0</td><td>0</td><td> 6</td><td> 5</td><td> 5</td></tr>\n",
       "\t<tr><td>FAT3    </td><td>0</td><td>0</td><td>0</td><td>0</td><td> 5</td><td>0</td><td>0</td><td> 5</td><td> 5</td><td> 5</td></tr>\n",
       "\t<tr><td>MAP3K4  </td><td>1</td><td>0</td><td>0</td><td>0</td><td> 4</td><td>0</td><td>0</td><td> 5</td><td> 5</td><td> 5</td></tr>\n",
       "\t<tr><td>ARID1B  </td><td>1</td><td>0</td><td>3</td><td>0</td><td> 1</td><td>0</td><td>0</td><td> 5</td><td> 4</td><td> 4</td></tr>\n",
       "\t<tr><td>COL22A1 </td><td>0</td><td>0</td><td>0</td><td>0</td><td> 5</td><td>0</td><td>0</td><td> 5</td><td> 4</td><td> 4</td></tr>\n",
       "\t<tr><td>TRRAP   </td><td>0</td><td>0</td><td>0</td><td>0</td><td> 4</td><td>1</td><td>0</td><td> 5</td><td> 4</td><td> 4</td></tr>\n",
       "\t<tr><td>ADGRA2  </td><td>3</td><td>0</td><td>0</td><td>0</td><td> 1</td><td>0</td><td>0</td><td> 4</td><td> 4</td><td> 4</td></tr>\n",
       "\t<tr><td>APOB    </td><td>0</td><td>0</td><td>0</td><td>0</td><td> 3</td><td>1</td><td>0</td><td> 4</td><td> 4</td><td> 4</td></tr>\n",
       "\t<tr><td>ASXL1   </td><td>0</td><td>0</td><td>4</td><td>0</td><td> 0</td><td>0</td><td>0</td><td> 4</td><td> 4</td><td> 4</td></tr>\n",
       "\t<tr><td>BRCA1   </td><td>1</td><td>1</td><td>0</td><td>1</td><td> 1</td><td>0</td><td>0</td><td> 4</td><td> 4</td><td> 4</td></tr>\n",
       "\t<tr><td>CDC27   </td><td>0</td><td>0</td><td>0</td><td>0</td><td> 4</td><td>0</td><td>0</td><td> 4</td><td> 4</td><td> 4</td></tr>\n",
       "\t<tr><td>MUC6    </td><td>0</td><td>0</td><td>1</td><td>0</td><td> 3</td><td>0</td><td>0</td><td> 4</td><td> 4</td><td> 4</td></tr>\n",
       "\t<tr><td>NCOA3   </td><td>0</td><td>0</td><td>0</td><td>0</td><td> 4</td><td>0</td><td>0</td><td> 4</td><td> 4</td><td> 4</td></tr>\n",
       "\t<tr><td>NF1     </td><td>0</td><td>0</td><td>0</td><td>0</td><td> 3</td><td>1</td><td>0</td><td> 4</td><td> 4</td><td> 4</td></tr>\n",
       "\t<tr><td>FRAS1   </td><td>0</td><td>0</td><td>0</td><td>0</td><td> 4</td><td>0</td><td>0</td><td> 4</td><td> 3</td><td> 3</td></tr>\n",
       "\t<tr><td>ZMYM3   </td><td>0</td><td>0</td><td>0</td><td>0</td><td> 4</td><td>0</td><td>0</td><td> 4</td><td> 3</td><td> 3</td></tr>\n",
       "\t<tr><td>ATM     </td><td>0</td><td>0</td><td>0</td><td>0</td><td> 2</td><td>0</td><td>1</td><td> 3</td><td> 3</td><td> 3</td></tr>\n",
       "\t<tr><td>BCOR    </td><td>0</td><td>0</td><td>0</td><td>0</td><td> 3</td><td>0</td><td>0</td><td> 3</td><td> 3</td><td> 3</td></tr>\n",
       "\t<tr><td>CIC     </td><td>0</td><td>1</td><td>0</td><td>0</td><td> 2</td><td>0</td><td>0</td><td> 3</td><td> 3</td><td> 3</td></tr>\n",
       "\t<tr><td>CSMD3   </td><td>0</td><td>0</td><td>0</td><td>0</td><td> 3</td><td>0</td><td>0</td><td> 3</td><td> 3</td><td> 3</td></tr>\n",
       "\t<tr><td>EGFR    </td><td>0</td><td>0</td><td>0</td><td>0</td><td> 2</td><td>0</td><td>1</td><td> 3</td><td> 3</td><td> 3</td></tr>\n",
       "\t<tr><td>GATA4   </td><td>0</td><td>0</td><td>2</td><td>0</td><td> 1</td><td>0</td><td>0</td><td> 3</td><td> 3</td><td> 3</td></tr>\n",
       "\t<tr><td>IKBKE   </td><td>1</td><td>0</td><td>0</td><td>0</td><td> 2</td><td>0</td><td>0</td><td> 3</td><td> 3</td><td> 3</td></tr>\n",
       "\t<tr><td>KMT2D   </td><td>0</td><td>0</td><td>0</td><td>0</td><td> 3</td><td>0</td><td>0</td><td> 3</td><td> 3</td><td> 3</td></tr>\n",
       "\t<tr><td>KRAS    </td><td>0</td><td>0</td><td>0</td><td>0</td><td> 3</td><td>0</td><td>0</td><td> 3</td><td> 3</td><td> 3</td></tr>\n",
       "\t<tr><td>LRRK1   </td><td>0</td><td>0</td><td>0</td><td>0</td><td> 3</td><td>0</td><td>0</td><td> 3</td><td> 3</td><td> 3</td></tr>\n",
       "\t<tr><td>⋮</td><td>⋮</td><td>⋮</td><td>⋮</td><td>⋮</td><td>⋮</td><td>⋮</td><td>⋮</td><td>⋮</td><td>⋮</td><td>⋮</td></tr>\n",
       "\t<tr><td>SMARCA1</td><td>0</td><td>0</td><td>0</td><td>0</td><td>1</td><td>0</td><td>0</td><td>1</td><td>1</td><td>1</td></tr>\n",
       "\t<tr><td>SMARCD1</td><td>0</td><td>0</td><td>0</td><td>0</td><td>1</td><td>0</td><td>0</td><td>1</td><td>1</td><td>1</td></tr>\n",
       "\t<tr><td>SNCAIP </td><td>0</td><td>0</td><td>0</td><td>0</td><td>1</td><td>0</td><td>0</td><td>1</td><td>1</td><td>1</td></tr>\n",
       "\t<tr><td>SOX10  </td><td>0</td><td>0</td><td>0</td><td>0</td><td>1</td><td>0</td><td>0</td><td>1</td><td>1</td><td>1</td></tr>\n",
       "\t<tr><td>SOX9   </td><td>0</td><td>0</td><td>0</td><td>0</td><td>1</td><td>0</td><td>0</td><td>1</td><td>1</td><td>1</td></tr>\n",
       "\t<tr><td>SPEN   </td><td>0</td><td>0</td><td>0</td><td>0</td><td>1</td><td>0</td><td>0</td><td>1</td><td>1</td><td>1</td></tr>\n",
       "\t<tr><td>SPOP   </td><td>0</td><td>0</td><td>0</td><td>0</td><td>0</td><td>1</td><td>0</td><td>1</td><td>1</td><td>1</td></tr>\n",
       "\t<tr><td>STAG1  </td><td>0</td><td>0</td><td>0</td><td>0</td><td>1</td><td>0</td><td>0</td><td>1</td><td>1</td><td>1</td></tr>\n",
       "\t<tr><td>STAG2  </td><td>0</td><td>0</td><td>0</td><td>0</td><td>1</td><td>0</td><td>0</td><td>1</td><td>1</td><td>1</td></tr>\n",
       "\t<tr><td>STAT5B </td><td>0</td><td>0</td><td>0</td><td>0</td><td>1</td><td>0</td><td>0</td><td>1</td><td>1</td><td>1</td></tr>\n",
       "\t<tr><td>SUFU   </td><td>0</td><td>0</td><td>0</td><td>0</td><td>1</td><td>0</td><td>0</td><td>1</td><td>1</td><td>1</td></tr>\n",
       "\t<tr><td>SYK    </td><td>0</td><td>0</td><td>0</td><td>0</td><td>1</td><td>0</td><td>0</td><td>1</td><td>1</td><td>1</td></tr>\n",
       "\t<tr><td>TAF15  </td><td>0</td><td>0</td><td>0</td><td>0</td><td>1</td><td>0</td><td>0</td><td>1</td><td>1</td><td>1</td></tr>\n",
       "\t<tr><td>TAP1   </td><td>0</td><td>0</td><td>0</td><td>0</td><td>1</td><td>0</td><td>0</td><td>1</td><td>1</td><td>1</td></tr>\n",
       "\t<tr><td>TCF7L2 </td><td>0</td><td>0</td><td>1</td><td>0</td><td>0</td><td>0</td><td>0</td><td>1</td><td>1</td><td>1</td></tr>\n",
       "\t<tr><td>TET1   </td><td>0</td><td>0</td><td>0</td><td>0</td><td>1</td><td>0</td><td>0</td><td>1</td><td>1</td><td>1</td></tr>\n",
       "\t<tr><td>TET2   </td><td>0</td><td>0</td><td>0</td><td>0</td><td>0</td><td>1</td><td>0</td><td>1</td><td>1</td><td>1</td></tr>\n",
       "\t<tr><td>TP63   </td><td>0</td><td>0</td><td>0</td><td>0</td><td>1</td><td>0</td><td>0</td><td>1</td><td>1</td><td>1</td></tr>\n",
       "\t<tr><td>TRAF7  </td><td>0</td><td>0</td><td>0</td><td>0</td><td>1</td><td>0</td><td>0</td><td>1</td><td>1</td><td>1</td></tr>\n",
       "\t<tr><td>TSC2   </td><td>0</td><td>0</td><td>0</td><td>0</td><td>1</td><td>0</td><td>0</td><td>1</td><td>1</td><td>1</td></tr>\n",
       "\t<tr><td>TSHR   </td><td>0</td><td>0</td><td>0</td><td>0</td><td>1</td><td>0</td><td>0</td><td>1</td><td>1</td><td>1</td></tr>\n",
       "\t<tr><td>USP6   </td><td>0</td><td>0</td><td>0</td><td>0</td><td>1</td><td>0</td><td>0</td><td>1</td><td>1</td><td>1</td></tr>\n",
       "\t<tr><td>VEGFA  </td><td>1</td><td>0</td><td>0</td><td>0</td><td>0</td><td>0</td><td>0</td><td>1</td><td>1</td><td>1</td></tr>\n",
       "\t<tr><td>WEE1   </td><td>0</td><td>0</td><td>1</td><td>0</td><td>0</td><td>0</td><td>0</td><td>1</td><td>1</td><td>1</td></tr>\n",
       "\t<tr><td>XPC    </td><td>0</td><td>0</td><td>0</td><td>0</td><td>1</td><td>0</td><td>0</td><td>1</td><td>1</td><td>1</td></tr>\n",
       "\t<tr><td>ZBTB16 </td><td>0</td><td>0</td><td>0</td><td>0</td><td>1</td><td>0</td><td>0</td><td>1</td><td>1</td><td>1</td></tr>\n",
       "\t<tr><td>ZFHX4  </td><td>0</td><td>0</td><td>0</td><td>0</td><td>1</td><td>0</td><td>0</td><td>1</td><td>1</td><td>1</td></tr>\n",
       "\t<tr><td>ZNF217 </td><td>0</td><td>0</td><td>0</td><td>0</td><td>1</td><td>0</td><td>0</td><td>1</td><td>1</td><td>1</td></tr>\n",
       "\t<tr><td>ZNRF3  </td><td>1</td><td>0</td><td>0</td><td>0</td><td>0</td><td>0</td><td>0</td><td>1</td><td>1</td><td>1</td></tr>\n",
       "\t<tr><td>ZRSR2  </td><td>0</td><td>0</td><td>1</td><td>0</td><td>0</td><td>0</td><td>0</td><td>1</td><td>1</td><td>1</td></tr>\n",
       "</tbody>\n",
       "</table>\n"
      ],
      "text/latex": [
       "A data.table: 239 × 11\n",
       "\\begin{tabular}{lllllllllll}\n",
       " Hugo\\_Symbol & Frame\\_Shift\\_Del & Frame\\_Shift\\_Ins & In\\_Frame\\_Del & In\\_Frame\\_Ins & Missense\\_Mutation & Nonsense\\_Mutation & Splice\\_Site & total & MutatedSamples & AlteredSamples\\\\\n",
       " <chr> & <int> & <int> & <int> & <int> & <int> & <int> & <int> & <dbl> & <int> & <int>\\\\\n",
       "\\hline\n",
       "\t TP53     & 5 & 1 & 0 & 0 & 15 & 2 & 3 & 26 & 25 & 25\\\\\n",
       "\t MUC16    & 0 & 0 & 1 & 0 &  8 & 0 & 0 &  9 &  7 &  7\\\\\n",
       "\t ARID1A   & 3 & 0 & 2 & 0 &  1 & 0 & 0 &  6 &  6 &  6\\\\\n",
       "\t KIAA1549 & 0 & 0 & 2 & 0 &  4 & 0 & 0 &  6 &  6 &  6\\\\\n",
       "\t FAT4     & 0 & 0 & 0 & 0 &  6 & 0 & 0 &  6 &  5 &  5\\\\\n",
       "\t FAT3     & 0 & 0 & 0 & 0 &  5 & 0 & 0 &  5 &  5 &  5\\\\\n",
       "\t MAP3K4   & 1 & 0 & 0 & 0 &  4 & 0 & 0 &  5 &  5 &  5\\\\\n",
       "\t ARID1B   & 1 & 0 & 3 & 0 &  1 & 0 & 0 &  5 &  4 &  4\\\\\n",
       "\t COL22A1  & 0 & 0 & 0 & 0 &  5 & 0 & 0 &  5 &  4 &  4\\\\\n",
       "\t TRRAP    & 0 & 0 & 0 & 0 &  4 & 1 & 0 &  5 &  4 &  4\\\\\n",
       "\t ADGRA2   & 3 & 0 & 0 & 0 &  1 & 0 & 0 &  4 &  4 &  4\\\\\n",
       "\t APOB     & 0 & 0 & 0 & 0 &  3 & 1 & 0 &  4 &  4 &  4\\\\\n",
       "\t ASXL1    & 0 & 0 & 4 & 0 &  0 & 0 & 0 &  4 &  4 &  4\\\\\n",
       "\t BRCA1    & 1 & 1 & 0 & 1 &  1 & 0 & 0 &  4 &  4 &  4\\\\\n",
       "\t CDC27    & 0 & 0 & 0 & 0 &  4 & 0 & 0 &  4 &  4 &  4\\\\\n",
       "\t MUC6     & 0 & 0 & 1 & 0 &  3 & 0 & 0 &  4 &  4 &  4\\\\\n",
       "\t NCOA3    & 0 & 0 & 0 & 0 &  4 & 0 & 0 &  4 &  4 &  4\\\\\n",
       "\t NF1      & 0 & 0 & 0 & 0 &  3 & 1 & 0 &  4 &  4 &  4\\\\\n",
       "\t FRAS1    & 0 & 0 & 0 & 0 &  4 & 0 & 0 &  4 &  3 &  3\\\\\n",
       "\t ZMYM3    & 0 & 0 & 0 & 0 &  4 & 0 & 0 &  4 &  3 &  3\\\\\n",
       "\t ATM      & 0 & 0 & 0 & 0 &  2 & 0 & 1 &  3 &  3 &  3\\\\\n",
       "\t BCOR     & 0 & 0 & 0 & 0 &  3 & 0 & 0 &  3 &  3 &  3\\\\\n",
       "\t CIC      & 0 & 1 & 0 & 0 &  2 & 0 & 0 &  3 &  3 &  3\\\\\n",
       "\t CSMD3    & 0 & 0 & 0 & 0 &  3 & 0 & 0 &  3 &  3 &  3\\\\\n",
       "\t EGFR     & 0 & 0 & 0 & 0 &  2 & 0 & 1 &  3 &  3 &  3\\\\\n",
       "\t GATA4    & 0 & 0 & 2 & 0 &  1 & 0 & 0 &  3 &  3 &  3\\\\\n",
       "\t IKBKE    & 1 & 0 & 0 & 0 &  2 & 0 & 0 &  3 &  3 &  3\\\\\n",
       "\t KMT2D    & 0 & 0 & 0 & 0 &  3 & 0 & 0 &  3 &  3 &  3\\\\\n",
       "\t KRAS     & 0 & 0 & 0 & 0 &  3 & 0 & 0 &  3 &  3 &  3\\\\\n",
       "\t LRRK1    & 0 & 0 & 0 & 0 &  3 & 0 & 0 &  3 &  3 &  3\\\\\n",
       "\t ⋮ & ⋮ & ⋮ & ⋮ & ⋮ & ⋮ & ⋮ & ⋮ & ⋮ & ⋮ & ⋮\\\\\n",
       "\t SMARCA1 & 0 & 0 & 0 & 0 & 1 & 0 & 0 & 1 & 1 & 1\\\\\n",
       "\t SMARCD1 & 0 & 0 & 0 & 0 & 1 & 0 & 0 & 1 & 1 & 1\\\\\n",
       "\t SNCAIP  & 0 & 0 & 0 & 0 & 1 & 0 & 0 & 1 & 1 & 1\\\\\n",
       "\t SOX10   & 0 & 0 & 0 & 0 & 1 & 0 & 0 & 1 & 1 & 1\\\\\n",
       "\t SOX9    & 0 & 0 & 0 & 0 & 1 & 0 & 0 & 1 & 1 & 1\\\\\n",
       "\t SPEN    & 0 & 0 & 0 & 0 & 1 & 0 & 0 & 1 & 1 & 1\\\\\n",
       "\t SPOP    & 0 & 0 & 0 & 0 & 0 & 1 & 0 & 1 & 1 & 1\\\\\n",
       "\t STAG1   & 0 & 0 & 0 & 0 & 1 & 0 & 0 & 1 & 1 & 1\\\\\n",
       "\t STAG2   & 0 & 0 & 0 & 0 & 1 & 0 & 0 & 1 & 1 & 1\\\\\n",
       "\t STAT5B  & 0 & 0 & 0 & 0 & 1 & 0 & 0 & 1 & 1 & 1\\\\\n",
       "\t SUFU    & 0 & 0 & 0 & 0 & 1 & 0 & 0 & 1 & 1 & 1\\\\\n",
       "\t SYK     & 0 & 0 & 0 & 0 & 1 & 0 & 0 & 1 & 1 & 1\\\\\n",
       "\t TAF15   & 0 & 0 & 0 & 0 & 1 & 0 & 0 & 1 & 1 & 1\\\\\n",
       "\t TAP1    & 0 & 0 & 0 & 0 & 1 & 0 & 0 & 1 & 1 & 1\\\\\n",
       "\t TCF7L2  & 0 & 0 & 1 & 0 & 0 & 0 & 0 & 1 & 1 & 1\\\\\n",
       "\t TET1    & 0 & 0 & 0 & 0 & 1 & 0 & 0 & 1 & 1 & 1\\\\\n",
       "\t TET2    & 0 & 0 & 0 & 0 & 0 & 1 & 0 & 1 & 1 & 1\\\\\n",
       "\t TP63    & 0 & 0 & 0 & 0 & 1 & 0 & 0 & 1 & 1 & 1\\\\\n",
       "\t TRAF7   & 0 & 0 & 0 & 0 & 1 & 0 & 0 & 1 & 1 & 1\\\\\n",
       "\t TSC2    & 0 & 0 & 0 & 0 & 1 & 0 & 0 & 1 & 1 & 1\\\\\n",
       "\t TSHR    & 0 & 0 & 0 & 0 & 1 & 0 & 0 & 1 & 1 & 1\\\\\n",
       "\t USP6    & 0 & 0 & 0 & 0 & 1 & 0 & 0 & 1 & 1 & 1\\\\\n",
       "\t VEGFA   & 1 & 0 & 0 & 0 & 0 & 0 & 0 & 1 & 1 & 1\\\\\n",
       "\t WEE1    & 0 & 0 & 1 & 0 & 0 & 0 & 0 & 1 & 1 & 1\\\\\n",
       "\t XPC     & 0 & 0 & 0 & 0 & 1 & 0 & 0 & 1 & 1 & 1\\\\\n",
       "\t ZBTB16  & 0 & 0 & 0 & 0 & 1 & 0 & 0 & 1 & 1 & 1\\\\\n",
       "\t ZFHX4   & 0 & 0 & 0 & 0 & 1 & 0 & 0 & 1 & 1 & 1\\\\\n",
       "\t ZNF217  & 0 & 0 & 0 & 0 & 1 & 0 & 0 & 1 & 1 & 1\\\\\n",
       "\t ZNRF3   & 1 & 0 & 0 & 0 & 0 & 0 & 0 & 1 & 1 & 1\\\\\n",
       "\t ZRSR2   & 0 & 0 & 1 & 0 & 0 & 0 & 0 & 1 & 1 & 1\\\\\n",
       "\\end{tabular}\n"
      ],
      "text/markdown": [
       "\n",
       "A data.table: 239 × 11\n",
       "\n",
       "| Hugo_Symbol &lt;chr&gt; | Frame_Shift_Del &lt;int&gt; | Frame_Shift_Ins &lt;int&gt; | In_Frame_Del &lt;int&gt; | In_Frame_Ins &lt;int&gt; | Missense_Mutation &lt;int&gt; | Nonsense_Mutation &lt;int&gt; | Splice_Site &lt;int&gt; | total &lt;dbl&gt; | MutatedSamples &lt;int&gt; | AlteredSamples &lt;int&gt; |\n",
       "|---|---|---|---|---|---|---|---|---|---|---|\n",
       "| TP53     | 5 | 1 | 0 | 0 | 15 | 2 | 3 | 26 | 25 | 25 |\n",
       "| MUC16    | 0 | 0 | 1 | 0 |  8 | 0 | 0 |  9 |  7 |  7 |\n",
       "| ARID1A   | 3 | 0 | 2 | 0 |  1 | 0 | 0 |  6 |  6 |  6 |\n",
       "| KIAA1549 | 0 | 0 | 2 | 0 |  4 | 0 | 0 |  6 |  6 |  6 |\n",
       "| FAT4     | 0 | 0 | 0 | 0 |  6 | 0 | 0 |  6 |  5 |  5 |\n",
       "| FAT3     | 0 | 0 | 0 | 0 |  5 | 0 | 0 |  5 |  5 |  5 |\n",
       "| MAP3K4   | 1 | 0 | 0 | 0 |  4 | 0 | 0 |  5 |  5 |  5 |\n",
       "| ARID1B   | 1 | 0 | 3 | 0 |  1 | 0 | 0 |  5 |  4 |  4 |\n",
       "| COL22A1  | 0 | 0 | 0 | 0 |  5 | 0 | 0 |  5 |  4 |  4 |\n",
       "| TRRAP    | 0 | 0 | 0 | 0 |  4 | 1 | 0 |  5 |  4 |  4 |\n",
       "| ADGRA2   | 3 | 0 | 0 | 0 |  1 | 0 | 0 |  4 |  4 |  4 |\n",
       "| APOB     | 0 | 0 | 0 | 0 |  3 | 1 | 0 |  4 |  4 |  4 |\n",
       "| ASXL1    | 0 | 0 | 4 | 0 |  0 | 0 | 0 |  4 |  4 |  4 |\n",
       "| BRCA1    | 1 | 1 | 0 | 1 |  1 | 0 | 0 |  4 |  4 |  4 |\n",
       "| CDC27    | 0 | 0 | 0 | 0 |  4 | 0 | 0 |  4 |  4 |  4 |\n",
       "| MUC6     | 0 | 0 | 1 | 0 |  3 | 0 | 0 |  4 |  4 |  4 |\n",
       "| NCOA3    | 0 | 0 | 0 | 0 |  4 | 0 | 0 |  4 |  4 |  4 |\n",
       "| NF1      | 0 | 0 | 0 | 0 |  3 | 1 | 0 |  4 |  4 |  4 |\n",
       "| FRAS1    | 0 | 0 | 0 | 0 |  4 | 0 | 0 |  4 |  3 |  3 |\n",
       "| ZMYM3    | 0 | 0 | 0 | 0 |  4 | 0 | 0 |  4 |  3 |  3 |\n",
       "| ATM      | 0 | 0 | 0 | 0 |  2 | 0 | 1 |  3 |  3 |  3 |\n",
       "| BCOR     | 0 | 0 | 0 | 0 |  3 | 0 | 0 |  3 |  3 |  3 |\n",
       "| CIC      | 0 | 1 | 0 | 0 |  2 | 0 | 0 |  3 |  3 |  3 |\n",
       "| CSMD3    | 0 | 0 | 0 | 0 |  3 | 0 | 0 |  3 |  3 |  3 |\n",
       "| EGFR     | 0 | 0 | 0 | 0 |  2 | 0 | 1 |  3 |  3 |  3 |\n",
       "| GATA4    | 0 | 0 | 2 | 0 |  1 | 0 | 0 |  3 |  3 |  3 |\n",
       "| IKBKE    | 1 | 0 | 0 | 0 |  2 | 0 | 0 |  3 |  3 |  3 |\n",
       "| KMT2D    | 0 | 0 | 0 | 0 |  3 | 0 | 0 |  3 |  3 |  3 |\n",
       "| KRAS     | 0 | 0 | 0 | 0 |  3 | 0 | 0 |  3 |  3 |  3 |\n",
       "| LRRK1    | 0 | 0 | 0 | 0 |  3 | 0 | 0 |  3 |  3 |  3 |\n",
       "| ⋮ | ⋮ | ⋮ | ⋮ | ⋮ | ⋮ | ⋮ | ⋮ | ⋮ | ⋮ | ⋮ |\n",
       "| SMARCA1 | 0 | 0 | 0 | 0 | 1 | 0 | 0 | 1 | 1 | 1 |\n",
       "| SMARCD1 | 0 | 0 | 0 | 0 | 1 | 0 | 0 | 1 | 1 | 1 |\n",
       "| SNCAIP  | 0 | 0 | 0 | 0 | 1 | 0 | 0 | 1 | 1 | 1 |\n",
       "| SOX10   | 0 | 0 | 0 | 0 | 1 | 0 | 0 | 1 | 1 | 1 |\n",
       "| SOX9    | 0 | 0 | 0 | 0 | 1 | 0 | 0 | 1 | 1 | 1 |\n",
       "| SPEN    | 0 | 0 | 0 | 0 | 1 | 0 | 0 | 1 | 1 | 1 |\n",
       "| SPOP    | 0 | 0 | 0 | 0 | 0 | 1 | 0 | 1 | 1 | 1 |\n",
       "| STAG1   | 0 | 0 | 0 | 0 | 1 | 0 | 0 | 1 | 1 | 1 |\n",
       "| STAG2   | 0 | 0 | 0 | 0 | 1 | 0 | 0 | 1 | 1 | 1 |\n",
       "| STAT5B  | 0 | 0 | 0 | 0 | 1 | 0 | 0 | 1 | 1 | 1 |\n",
       "| SUFU    | 0 | 0 | 0 | 0 | 1 | 0 | 0 | 1 | 1 | 1 |\n",
       "| SYK     | 0 | 0 | 0 | 0 | 1 | 0 | 0 | 1 | 1 | 1 |\n",
       "| TAF15   | 0 | 0 | 0 | 0 | 1 | 0 | 0 | 1 | 1 | 1 |\n",
       "| TAP1    | 0 | 0 | 0 | 0 | 1 | 0 | 0 | 1 | 1 | 1 |\n",
       "| TCF7L2  | 0 | 0 | 1 | 0 | 0 | 0 | 0 | 1 | 1 | 1 |\n",
       "| TET1    | 0 | 0 | 0 | 0 | 1 | 0 | 0 | 1 | 1 | 1 |\n",
       "| TET2    | 0 | 0 | 0 | 0 | 0 | 1 | 0 | 1 | 1 | 1 |\n",
       "| TP63    | 0 | 0 | 0 | 0 | 1 | 0 | 0 | 1 | 1 | 1 |\n",
       "| TRAF7   | 0 | 0 | 0 | 0 | 1 | 0 | 0 | 1 | 1 | 1 |\n",
       "| TSC2    | 0 | 0 | 0 | 0 | 1 | 0 | 0 | 1 | 1 | 1 |\n",
       "| TSHR    | 0 | 0 | 0 | 0 | 1 | 0 | 0 | 1 | 1 | 1 |\n",
       "| USP6    | 0 | 0 | 0 | 0 | 1 | 0 | 0 | 1 | 1 | 1 |\n",
       "| VEGFA   | 1 | 0 | 0 | 0 | 0 | 0 | 0 | 1 | 1 | 1 |\n",
       "| WEE1    | 0 | 0 | 1 | 0 | 0 | 0 | 0 | 1 | 1 | 1 |\n",
       "| XPC     | 0 | 0 | 0 | 0 | 1 | 0 | 0 | 1 | 1 | 1 |\n",
       "| ZBTB16  | 0 | 0 | 0 | 0 | 1 | 0 | 0 | 1 | 1 | 1 |\n",
       "| ZFHX4   | 0 | 0 | 0 | 0 | 1 | 0 | 0 | 1 | 1 | 1 |\n",
       "| ZNF217  | 0 | 0 | 0 | 0 | 1 | 0 | 0 | 1 | 1 | 1 |\n",
       "| ZNRF3   | 1 | 0 | 0 | 0 | 0 | 0 | 0 | 1 | 1 | 1 |\n",
       "| ZRSR2   | 0 | 0 | 1 | 0 | 0 | 0 | 0 | 1 | 1 | 1 |\n",
       "\n"
      ],
      "text/plain": [
       "    Hugo_Symbol Frame_Shift_Del Frame_Shift_Ins In_Frame_Del In_Frame_Ins\n",
       "1   TP53        5               1               0            0           \n",
       "2   MUC16       0               0               1            0           \n",
       "3   ARID1A      3               0               2            0           \n",
       "4   KIAA1549    0               0               2            0           \n",
       "5   FAT4        0               0               0            0           \n",
       "6   FAT3        0               0               0            0           \n",
       "7   MAP3K4      1               0               0            0           \n",
       "8   ARID1B      1               0               3            0           \n",
       "9   COL22A1     0               0               0            0           \n",
       "10  TRRAP       0               0               0            0           \n",
       "11  ADGRA2      3               0               0            0           \n",
       "12  APOB        0               0               0            0           \n",
       "13  ASXL1       0               0               4            0           \n",
       "14  BRCA1       1               1               0            1           \n",
       "15  CDC27       0               0               0            0           \n",
       "16  MUC6        0               0               1            0           \n",
       "17  NCOA3       0               0               0            0           \n",
       "18  NF1         0               0               0            0           \n",
       "19  FRAS1       0               0               0            0           \n",
       "20  ZMYM3       0               0               0            0           \n",
       "21  ATM         0               0               0            0           \n",
       "22  BCOR        0               0               0            0           \n",
       "23  CIC         0               1               0            0           \n",
       "24  CSMD3       0               0               0            0           \n",
       "25  EGFR        0               0               0            0           \n",
       "26  GATA4       0               0               2            0           \n",
       "27  IKBKE       1               0               0            0           \n",
       "28  KMT2D       0               0               0            0           \n",
       "29  KRAS        0               0               0            0           \n",
       "30  LRRK1       0               0               0            0           \n",
       "⋮   ⋮           ⋮               ⋮               ⋮            ⋮           \n",
       "210 SMARCA1     0               0               0            0           \n",
       "211 SMARCD1     0               0               0            0           \n",
       "212 SNCAIP      0               0               0            0           \n",
       "213 SOX10       0               0               0            0           \n",
       "214 SOX9        0               0               0            0           \n",
       "215 SPEN        0               0               0            0           \n",
       "216 SPOP        0               0               0            0           \n",
       "217 STAG1       0               0               0            0           \n",
       "218 STAG2       0               0               0            0           \n",
       "219 STAT5B      0               0               0            0           \n",
       "220 SUFU        0               0               0            0           \n",
       "221 SYK         0               0               0            0           \n",
       "222 TAF15       0               0               0            0           \n",
       "223 TAP1        0               0               0            0           \n",
       "224 TCF7L2      0               0               1            0           \n",
       "225 TET1        0               0               0            0           \n",
       "226 TET2        0               0               0            0           \n",
       "227 TP63        0               0               0            0           \n",
       "228 TRAF7       0               0               0            0           \n",
       "229 TSC2        0               0               0            0           \n",
       "230 TSHR        0               0               0            0           \n",
       "231 USP6        0               0               0            0           \n",
       "232 VEGFA       1               0               0            0           \n",
       "233 WEE1        0               0               1            0           \n",
       "234 XPC         0               0               0            0           \n",
       "235 ZBTB16      0               0               0            0           \n",
       "236 ZFHX4       0               0               0            0           \n",
       "237 ZNF217      0               0               0            0           \n",
       "238 ZNRF3       1               0               0            0           \n",
       "239 ZRSR2       0               0               1            0           \n",
       "    Missense_Mutation Nonsense_Mutation Splice_Site total MutatedSamples\n",
       "1   15                2                 3           26    25            \n",
       "2    8                0                 0            9     7            \n",
       "3    1                0                 0            6     6            \n",
       "4    4                0                 0            6     6            \n",
       "5    6                0                 0            6     5            \n",
       "6    5                0                 0            5     5            \n",
       "7    4                0                 0            5     5            \n",
       "8    1                0                 0            5     4            \n",
       "9    5                0                 0            5     4            \n",
       "10   4                1                 0            5     4            \n",
       "11   1                0                 0            4     4            \n",
       "12   3                1                 0            4     4            \n",
       "13   0                0                 0            4     4            \n",
       "14   1                0                 0            4     4            \n",
       "15   4                0                 0            4     4            \n",
       "16   3                0                 0            4     4            \n",
       "17   4                0                 0            4     4            \n",
       "18   3                1                 0            4     4            \n",
       "19   4                0                 0            4     3            \n",
       "20   4                0                 0            4     3            \n",
       "21   2                0                 1            3     3            \n",
       "22   3                0                 0            3     3            \n",
       "23   2                0                 0            3     3            \n",
       "24   3                0                 0            3     3            \n",
       "25   2                0                 1            3     3            \n",
       "26   1                0                 0            3     3            \n",
       "27   2                0                 0            3     3            \n",
       "28   3                0                 0            3     3            \n",
       "29   3                0                 0            3     3            \n",
       "30   3                0                 0            3     3            \n",
       "⋮   ⋮                 ⋮                 ⋮           ⋮     ⋮             \n",
       "210 1                 0                 0           1     1             \n",
       "211 1                 0                 0           1     1             \n",
       "212 1                 0                 0           1     1             \n",
       "213 1                 0                 0           1     1             \n",
       "214 1                 0                 0           1     1             \n",
       "215 1                 0                 0           1     1             \n",
       "216 0                 1                 0           1     1             \n",
       "217 1                 0                 0           1     1             \n",
       "218 1                 0                 0           1     1             \n",
       "219 1                 0                 0           1     1             \n",
       "220 1                 0                 0           1     1             \n",
       "221 1                 0                 0           1     1             \n",
       "222 1                 0                 0           1     1             \n",
       "223 1                 0                 0           1     1             \n",
       "224 0                 0                 0           1     1             \n",
       "225 1                 0                 0           1     1             \n",
       "226 0                 1                 0           1     1             \n",
       "227 1                 0                 0           1     1             \n",
       "228 1                 0                 0           1     1             \n",
       "229 1                 0                 0           1     1             \n",
       "230 1                 0                 0           1     1             \n",
       "231 1                 0                 0           1     1             \n",
       "232 0                 0                 0           1     1             \n",
       "233 0                 0                 0           1     1             \n",
       "234 1                 0                 0           1     1             \n",
       "235 1                 0                 0           1     1             \n",
       "236 1                 0                 0           1     1             \n",
       "237 1                 0                 0           1     1             \n",
       "238 0                 0                 0           1     1             \n",
       "239 0                 0                 0           1     1             \n",
       "    AlteredSamples\n",
       "1   25            \n",
       "2    7            \n",
       "3    6            \n",
       "4    6            \n",
       "5    5            \n",
       "6    5            \n",
       "7    5            \n",
       "8    4            \n",
       "9    4            \n",
       "10   4            \n",
       "11   4            \n",
       "12   4            \n",
       "13   4            \n",
       "14   4            \n",
       "15   4            \n",
       "16   4            \n",
       "17   4            \n",
       "18   4            \n",
       "19   3            \n",
       "20   3            \n",
       "21   3            \n",
       "22   3            \n",
       "23   3            \n",
       "24   3            \n",
       "25   3            \n",
       "26   3            \n",
       "27   3            \n",
       "28   3            \n",
       "29   3            \n",
       "30   3            \n",
       "⋮   ⋮             \n",
       "210 1             \n",
       "211 1             \n",
       "212 1             \n",
       "213 1             \n",
       "214 1             \n",
       "215 1             \n",
       "216 1             \n",
       "217 1             \n",
       "218 1             \n",
       "219 1             \n",
       "220 1             \n",
       "221 1             \n",
       "222 1             \n",
       "223 1             \n",
       "224 1             \n",
       "225 1             \n",
       "226 1             \n",
       "227 1             \n",
       "228 1             \n",
       "229 1             \n",
       "230 1             \n",
       "231 1             \n",
       "232 1             \n",
       "233 1             \n",
       "234 1             \n",
       "235 1             \n",
       "236 1             \n",
       "237 1             \n",
       "238 1             \n",
       "239 1             "
      ]
     },
     "metadata": {},
     "output_type": "display_data"
    }
   ],
   "source": [
    "tryCatch({\n",
    "     #Shows gene summary.\n",
    "    getGeneSummary(laml)\n",
    " },error=function(e){\n",
    "     print(e)\n",
    " } )"
   ]
  },
  {
   "cell_type": "code",
   "execution_count": 95,
   "metadata": {
    "tags": [
     "hide"
    ]
   },
   "outputs": [],
   "source": [
    "#按照单个基因处理\n",
    "genename <- unique(mut$Hugo_Symbol)\n",
    "genename <- genename[1]\n",
    "#colnames(mut)"
   ]
  },
  {
   "cell_type": "markdown",
   "metadata": {
    "tags": [
     "output"
    ]
   },
   "source": [
    "## 变异分布特性图"
   ]
  },
  {
   "cell_type": "code",
   "execution_count": 30,
   "metadata": {
    "tags": [
     "output"
    ]
   },
   "outputs": [
    {
     "data": {
      "image/png": "[encoded data removed]",
      "text/plain": [
       "Plot with title “Top 20\n",
       "mutated genes”"
      ]
     },
     "metadata": {
      "image/png": {
       "height": 420,
       "width": 420
      },
      "text/plain": {
       "height": 420,
       "width": 420
      }
     },
     "output_type": "display_data"
    }
   ],
   "source": [
    "tryCatch({\n",
    "      suppressMessages(suppressWarnings(plotmafSummary(maf = laml, rmOutlier = TRUE, addStat = 'median', dashboard = TRUE, titvRaw = FALSE, showBarcodes = FALSE,top=20)))\n",
    " },error=function(e){\n",
    "     print(e)\n",
    " } )"
   ]
  },
  {
   "cell_type": "markdown",
   "metadata": {
    "tags": [
     "output"
    ]
   },
   "source": [
    "## Ti/TV"
   ]
  },
  {
   "cell_type": "code",
   "execution_count": 41,
   "metadata": {
    "tags": [
     "output"
    ]
   },
   "outputs": [
    {
     "data": {
      "text/plain": [
       "NULL"
      ]
     },
     "metadata": {},
     "output_type": "display_data"
    },
    {
     "data": {
      "image/png": "[encoded data removed]",
      "text/plain": [
       "plot without title"
      ]
     },
     "metadata": {
      "image/png": {
       "height": 420,
       "width": 420
      },
      "text/plain": {
       "height": 420,
       "width": 420
      }
     },
     "output_type": "display_data"
    }
   ],
   "source": [
    "tryCatch({\n",
    "     laml.titv = titv(maf = laml, plot = FALSE, useSyn = TRUE)\n",
    "     suppressMessages(suppressWarnings(plotTiTv(res = laml.titv)))\n",
    " },error=function(e){\n",
    "     print(e)\n",
    " } )"
   ]
  },
  {
   "cell_type": "markdown",
   "metadata": {
    "tags": [
     "output"
    ]
   },
   "source": [
    "## 基因变异分布棒棒糖图"
   ]
  },
  {
   "cell_type": "code",
   "execution_count": 48,
   "metadata": {
    "tags": [
     "output"
    ]
   },
   "outputs": [
    {
     "name": "stdout",
     "output_type": "stream",
     "text": [
      "   HGNC    refseq.ID   protein.ID aa.length\n",
      "1: TP53    NM_000546    NP_000537       393\n",
      "2: TP53 NM_001126112 NP_001119584       393\n",
      "3: TP53 NM_001126118 NP_001119590       354\n",
      "4: TP53 NM_001126115 NP_001119587       261\n",
      "5: TP53 NM_001126113 NP_001119585       346\n",
      "6: TP53 NM_001126117 NP_001119589       214\n",
      "7: TP53 NM_001126114 NP_001119586       341\n",
      "8: TP53 NM_001126116 NP_001119588       209\n"
     ]
    },
    {
     "data": {
      "image/png": "[encoded data removed]",
      "text/plain": [
       "plot without title"
      ]
     },
     "metadata": {
      "image/png": {
       "height": 420,
       "width": 420
      },
      "text/plain": {
       "height": 420,
       "width": 420
      }
     },
     "output_type": "display_data"
    }
   ],
   "source": [
    "tryCatch({\n",
    "     laml.titv = titv(maf = laml, plot = FALSE, useSyn = TRUE)\n",
    "     suppressMessages(suppressWarnings(lollipopPlot(maf = laml, gene = genename,AACol = 'HGVSp_Short', showMutationRate = TRUE,\n",
    "                    cBioPortal= FALSE)))\n",
    " },error=function(e){\n",
    "     print(e)\n",
    " } )"
   ]
  },
  {
   "cell_type": "markdown",
   "metadata": {
    "tags": [
     "output"
    ]
   },
   "source": [
    "## 生存曲线分析"
   ]
  },
  {
   "cell_type": "markdown",
   "metadata": {
    "tags": [
     "output"
    ]
   },
   "source": [
    "### 总生存期（Overall survival，OS）"
   ]
  },
  {
   "cell_type": "code",
   "execution_count": null,
   "metadata": {
    "tags": [
     "output"
    ]
   },
   "outputs": [],
   "source": [
    "#Survival analysis based on grouping of gene mutation status\n",
    "if((\"OS_STATUS\" %in% colnames(cli)) & (\"OS_MONTHS\" %in% colnames(cli))){\n",
    "    cli$OS_MONTHS<-as.numeric(cli$OS_MONTHS) * 30\n",
    "    \n",
    "    dd<-cli$OS_STATUS\n",
    "    dd[dd == \"DECEASED\"] <- 1\n",
    "    dd[dd == \"LIVING\"] <- 0\n",
    "    cli$OS_STATUS <- dd\n",
    "    \n",
    "    tryCatch({\n",
    "        suppressMessages(suppressWarnings(mafSurvival(maf = laml, genes = genename, time = 'OS_MONTHS', Status = 'OS_STATUS', isTCGA = FALSE)))\n",
    "     },error=function(e){\n",
    "         print(e)\n",
    "     } )\n",
    " }else{\n",
    "    print(\"列名命名有误，请检查数据。\")\n",
    "}"
   ]
  },
  {
   "cell_type": "markdown",
   "metadata": {
    "tags": [
     "output"
    ]
   },
   "source": [
    "### 无病生存期（Disease-free  survival，DFS）"
   ]
  },
  {
   "cell_type": "code",
   "execution_count": 94,
   "metadata": {
    "tags": [
     "output"
    ]
   },
   "outputs": [],
   "source": [
    "#Survival analysis based on grouping of gene mutation status\n",
    "if((\"DFS_STATUS\" %in% colnames(cli)) & (\"DFS_MONTHS\" %in% colnames(cli))){\n",
    "    cli$DFS_MONTHS<-as.numeric(cli$DFS_MONTHS) * 30\n",
    "    \n",
    "    dd<-cli$DFS_STATUS\n",
    "    dd[dd == \"Recurred/Progressed\"] <- 1\n",
    "    dd[dd == \"Recurred\"] <- 1\n",
    "    dd[dd == \"DiseaseFree\"] <- 0\n",
    "    cli$DFS_STATUS <- dd\n",
    "    \n",
    "    tryCatch({\n",
    "        suppressMessages(suppressWarnings(mafSurvival(maf = laml, genes = genename, time = 'DFS_MONTHS', Status = 'DFS_STATUS', isTCGA = FALSE)))\n",
    "     },error=function(e){\n",
    "         print(e)\n",
    "     } )\n",
    " }else{\n",
    "    print(\"列名命名有误，请检查数据。\")\n",
    "}"
   ]
  },
  {
   "cell_type": "markdown",
   "metadata": {
    "tags": [
     "output"
    ]
   },
   "source": [
    "### 无进展生存期（progression-free survival，PFS）"
   ]
  },
  {
   "cell_type": "code",
   "execution_count": null,
   "metadata": {
    "tags": [
     "output"
    ]
   },
   "outputs": [],
   "source": [
    "#Survival analysis based on grouping of gene mutation status\n",
    "if((\"PFS_STATUS\" %in% colnames(cli)) & (\"PFS_MONTHS\" %in% colnames(cli))){\n",
    "    cli$PFS_MONTHS<-as.numeric(cli$PFS_MONTHS) * 30\n",
    "    \n",
    "    dd<-cli$PFS_STATUS\n",
    "    dd[dd == \"Recurred/Progressed\"] <- 1\n",
    "    dd[dd == \"Recurred\"] <- 1\n",
    "    dd[dd == \"DiseaseFree\"] <- 0\n",
    "    cli$PFS_STATUS <- dd\n",
    "    \n",
    "    tryCatch({\n",
    "        suppressMessages(suppressWarnings(mafSurvival(maf = laml, genes = genename, time = 'PFS_MONTHS', Status = 'PFS_STATUS', isTCGA = FALSE)))\n",
    "     },error=function(e){\n",
    "         print(e)\n",
    "     } )\n",
    " }else{\n",
    "    print(\"列名命名有误，请检查数据。\")\n",
    "}"
   ]
  }
 ],
 "metadata": {
  "celltoolbar": "Tags",
  "kernelspec": {
   "display_name": "R",
   "language": "R",
   "name": "ir"
  },
  "language_info": {
   "codemirror_mode": "r",
   "file_extension": ".r",
   "mimetype": "text/x-r-source",
   "name": "R",
   "pygments_lexer": "r",
   "version": "3.5.1"
  },
  "toc": {
   "base_numbering": 1,
   "nav_menu": {},
   "number_sections": true,
   "sideBar": true,
   "skip_h1_title": false,
   "title_cell": "Table of Contents",
   "title_sidebar": "Contents",
   "toc_cell": false,
   "toc_position": {},
   "toc_section_display": true,
   "toc_window_display": false
  },
  "varInspector": {
   "cols": {
    "lenName": 16,
    "lenType": 16,
    "lenVar": 40
   },
   "kernels_config": {
    "python": {
     "delete_cmd_postfix": "",
     "delete_cmd_prefix": "del ",
     "library": "var_list.py",
     "varRefreshCmd": "print(var_dic_list())"
    },
    "r": {
     "delete_cmd_postfix": ") ",
     "delete_cmd_prefix": "rm(",
     "library": "var_list.r",
     "varRefreshCmd": "cat(var_dic_list()) "
    }
   },
   "types_to_exclude": [
    "module",
    "function",
    "builtin_function_or_method",
    "instance",
    "_Feature"
   ],
   "window_display": false
  }
 },
 "nbformat": 4,
 "nbformat_minor": 2
}
